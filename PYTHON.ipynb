{
  "nbformat": 4,
  "nbformat_minor": 0,
  "metadata": {
    "colab": {
      "name": "PYTHON",
      "provenance": [],
      "collapsed_sections": [],
      "authorship_tag": "ABX9TyNvEMSjG853llBI+4f9zUGd",
      "include_colab_link": true
    },
    "kernelspec": {
      "name": "python3",
      "display_name": "Python 3"
    },
    "language_info": {
      "name": "python"
    }
  },
  "cells": [
    {
      "cell_type": "markdown",
      "metadata": {
        "id": "view-in-github",
        "colab_type": "text"
      },
      "source": [
        "<a href=\"https://colab.research.google.com/github/Ashik9576/Cardiovascular-Risk-Prediction/blob/main/PYTHON.ipynb\" target=\"_parent\"><img src=\"https://colab.research.google.com/assets/colab-badge.svg\" alt=\"Open In Colab\"/></a>"
      ]
    },
    {
      "cell_type": "markdown",
      "source": [
        "1. Python program to print all positive numbers in a range\n",
        "* Given start and end of a range, write a Python program to print all positive numbers in given range."
      ],
      "metadata": {
        "id": "_R7ytQ-GrK0h"
      }
    },
    {
      "cell_type": "code",
      "execution_count": null,
      "metadata": {
        "colab": {
          "base_uri": "https://localhost:8080/"
        },
        "id": "pAOoAudlqnwV",
        "outputId": "bf301f8f-dff1-406e-a988-1edc152e3d5f"
      },
      "outputs": [
        {
          "output_type": "stream",
          "name": "stdout",
          "text": [
            "0 1 2 3 4 5 6 7 8 9 10 11 12 13 14 15 16 17 18 19 "
          ]
        }
      ],
      "source": [
        "# Python program to print positive Numbers in given range\n",
        "  \n",
        "start, end = -4, 19\n",
        "  \n",
        "# iterating each number in list\n",
        "for num in range(start, end + 1):\n",
        "      \n",
        "    # checking condition\n",
        "    if num >= 0:\n",
        "        print(num, end = \" \")"
      ]
    },
    {
      "cell_type": "markdown",
      "source": [
        "2. Remove empty tuples from a list"
      ],
      "metadata": {
        "id": "BEkxE67PrmlV"
      }
    },
    {
      "cell_type": "code",
      "source": [
        "# Python program to remove empty tuples from a \n",
        "# list of tuples function to remove empty tuples \n",
        "# using list comprehension\n",
        "def Remove(tuples):\n",
        "    tuples = [t for t in tuples if t]\n",
        "    return tuples\n",
        "  \n",
        "# Driver Code\n",
        "tuples = [(), ('ram','15','8'), (), ('laxman', 'sita'), \n",
        "          ('krishna', 'akbar', '45'), ('',''),()]\n",
        "print(Remove(tuples))"
      ],
      "metadata": {
        "colab": {
          "base_uri": "https://localhost:8080/"
        },
        "id": "XXRVpFkHrbwk",
        "outputId": "4e9b472e-2e84-4d29-836e-d1c810f11131"
      },
      "execution_count": null,
      "outputs": [
        {
          "output_type": "stream",
          "name": "stdout",
          "text": [
            "[('ram', '15', '8'), ('laxman', 'sita'), ('krishna', 'akbar', '45'), ('', '')]\n"
          ]
        }
      ]
    },
    {
      "cell_type": "markdown",
      "source": [
        "3. How to count unique values inside a list using counter"
      ],
      "metadata": {
        "id": "5xYI0PRU5b-2"
      }
    },
    {
      "cell_type": "code",
      "source": [
        "# importing Counter module\n",
        "from collections import Counter\n",
        "  \n",
        "  \n",
        "input_list = [1, 2, 2, 5, 8, 4, 4, 8]\n",
        "  \n",
        "# creating a list with the keys\n",
        "items = Counter(input_list).keys()\n",
        "print(\"No of unique items in the list are:\", len(items))"
      ],
      "metadata": {
        "id": "3nxf8Dqqr4Ai",
        "colab": {
          "base_uri": "https://localhost:8080/"
        },
        "outputId": "00aaa364-b274-4e58-daa1-5db0e2f0080f"
      },
      "execution_count": null,
      "outputs": [
        {
          "output_type": "stream",
          "name": "stdout",
          "text": [
            "No of unique items in the list are: 5\n"
          ]
        }
      ]
    },
    {
      "cell_type": "markdown",
      "source": [
        "4. Extract elements with Frequency greater than K"
      ],
      "metadata": {
        "id": "xmkr7bel5mnj"
      }
    },
    {
      "cell_type": "code",
      "source": [
        "# Python3 code to demonstrate working of\n",
        "# Retain records with N occurrences of K\n",
        "# Using count() + list comprehension\n",
        " \n",
        "# initializing list\n",
        "test_list = [(4, 5, 6, 4, 4), (4, 4, 3), (4, 4, 4), (3, 4, 9)]\n",
        " \n",
        "# printing original list\n",
        "print(\"The original list is : \" + str(test_list))\n",
        " \n",
        "# initializing K\n",
        "K = 4\n",
        " \n",
        "# initializing N\n",
        "N = 3\n",
        " \n",
        "# Retain records with N occurrences of K\n",
        "# Using count() + list comprehension\n",
        "res = [ele for ele in test_list if ele.count(K) == N]\n",
        " \n",
        "# printing result\n",
        "print(\"Filtered tuples : \" + str(res))"
      ],
      "metadata": {
        "colab": {
          "base_uri": "https://localhost:8080/"
        },
        "id": "4hZARM8O5jxC",
        "outputId": "b5f647b9-a2c3-4daf-a4e0-f5de53086719"
      },
      "execution_count": null,
      "outputs": [
        {
          "output_type": "stream",
          "name": "stdout",
          "text": [
            "The original list is : [(4, 5, 6, 4, 4), (4, 4, 3), (4, 4, 4), (3, 4, 9)]\n",
            "Filtered tuples : [(4, 5, 6, 4, 4), (4, 4, 4)]\n"
          ]
        }
      ]
    },
    {
      "cell_type": "markdown",
      "source": [
        "How to create a dictionary where a key is formed using inputs?"
      ],
      "metadata": {
        "id": "9toLueKe4WkO"
      }
    },
    {
      "cell_type": "code",
      "source": [
        "# Python code to demonstrate a dictionary\n",
        "# with multiple inputs in a key.\n",
        "import random as rn\n",
        " \n",
        "# creating an empty dictionary\n",
        "dict = {}\n",
        " \n",
        "# Insert first triplet in dictionary\n",
        "x, y, z = 10, 20, 30\n",
        "dict[x, y, z] = x + y - z;\n",
        " \n",
        "# Insert second triplet in dictionary\n",
        "x, y, z = 5, 2, 4\n",
        "dict[x, y, z] = x + y - z;\n",
        " \n",
        "# print the dictionary\n",
        "print(dict)"
      ],
      "metadata": {
        "id": "NtucOyxe6Bdl",
        "colab": {
          "base_uri": "https://localhost:8080/"
        },
        "outputId": "b874e02c-7f1b-49e8-eb61-c19dc82cb803"
      },
      "execution_count": null,
      "outputs": [
        {
          "output_type": "stream",
          "name": "stdout",
          "text": [
            "{(10, 20, 30): 0, (5, 2, 4): 3}\n"
          ]
        }
      ]
    },
    {
      "cell_type": "markdown",
      "source": [
        "Create Nested Dictionary using given List\n"
      ],
      "metadata": {
        "id": "yBs2_rve4jOb"
      }
    },
    {
      "cell_type": "code",
      "source": [
        "# Python3 code to demonstrate working of \n",
        "# Nested Dictionary with List\n",
        "# Using dictionary comprehension + zip()\n",
        "  \n",
        "# initializing dictionary and list\n",
        "test_dict = {'Gfg' : 4, 'is' : 5, 'best' : 9} \n",
        "test_list = [8, 3, 2]\n",
        "  \n",
        "# printing original dictionary and list\n",
        "print(\"The original dictionary is : \" + str(test_dict))\n",
        "print(\"The original list is : \" + str(test_list))\n",
        "  \n",
        "# zip() and dictionary comprehension mapped in one liner to solve\n",
        "res = {idx: {key : test_dict[key]} for idx, key in zip(test_list, test_dict)}\n",
        "          \n",
        "# printing result \n",
        "print(\"The mapped dictionary : \" + str(res)) "
      ],
      "metadata": {
        "colab": {
          "base_uri": "https://localhost:8080/"
        },
        "id": "NnB9AHay4fTW",
        "outputId": "c2a1a5e1-c37d-4318-d2f8-c031aa67e68f"
      },
      "execution_count": null,
      "outputs": [
        {
          "output_type": "stream",
          "name": "stdout",
          "text": [
            "The original dictionary is : {'Gfg': 4, 'is': 5, 'best': 9}\n",
            "The original list is : [8, 3, 2]\n",
            "The mapped dictionary : {8: {'Gfg': 4}, 3: {'is': 5}, 2: {'best': 9}}\n"
          ]
        }
      ]
    },
    {
      "cell_type": "markdown",
      "source": [
        "9. Print anagrams together in Python using List and Dictionary"
      ],
      "metadata": {
        "id": "7zAeFRaaYzhw"
      }
    },
    {
      "cell_type": "code",
      "source": [
        "# Function to return all anagrams together \n",
        "def allAnagram(input): \n",
        "      \n",
        "    # empty dictionary which holds subsets \n",
        "    # of all anagrams together \n",
        "    dict = {} \n",
        "  \n",
        "    # traverse list of strings \n",
        "    for strVal in input: \n",
        "          \n",
        "        # sorted(iterable) method accepts any \n",
        "        # iterable and rerturns list of items \n",
        "        # in ascending order \n",
        "        key = ''.join(sorted(strVal)) \n",
        "          \n",
        "        # now check if key exist in dictionary \n",
        "        # or not. If yes then simply append the \n",
        "        # strVal into the list of it's corresponding \n",
        "        # key. If not then map empty list onto \n",
        "        # key and then start appending values \n",
        "        if key in dict.keys(): \n",
        "            dict[key].append(strVal) \n",
        "        else: \n",
        "            dict[key] = [] \n",
        "            dict[key].append(strVal) \n",
        "  \n",
        "    # traverse dictionary and concatenate values \n",
        "    # of keys together \n",
        "    output = \"\" \n",
        "    for key,value in dict.items(): \n",
        "        output = output + ' '.join(value) + ' '\n",
        "  \n",
        "    return output \n",
        "  \n",
        "# Driver function \n",
        "if __name__ == \"__main__\": \n",
        "    input=['cat', 'dog', 'tac', 'god', 'act'] \n",
        "    print (allAnagram(input)) "
      ],
      "metadata": {
        "id": "9IVc_C8E4qoE",
        "colab": {
          "base_uri": "https://localhost:8080/"
        },
        "outputId": "f1812fcf-168f-4d2c-b4c8-8f8aab6b73d7"
      },
      "execution_count": null,
      "outputs": [
        {
          "output_type": "stream",
          "name": "stdout",
          "text": [
            "cat tac act dog god \n"
          ]
        }
      ]
    },
    {
      "cell_type": "markdown",
      "source": [
        "10. Dictionary with maximum count of pairs"
      ],
      "metadata": {
        "id": "4AgREdWNY9BW"
      }
    },
    {
      "cell_type": "code",
      "source": [
        "\n",
        "# Dictionary with maximum keys\n",
        "# Using max() + key = len\n",
        "  \n",
        "# initializing list\n",
        "test_list = [{\"gfg\": 2, \"best\" : 4}, \n",
        "             {\"gfg\": 2, \"is\" : 3, \"best\" : 4}, \n",
        "             {\"gfg\": 2}]\n",
        "  \n",
        "# printing original list\n",
        "print(\"The original list is : \" + str(test_list))\n",
        "  \n",
        "# maximum length dict using len param\n",
        "res = max(test_list, key = len)\n",
        "          \n",
        "# printing results\n",
        "print(\"Maximum keys Dictionary : \" + str(res))"
      ],
      "metadata": {
        "colab": {
          "base_uri": "https://localhost:8080/"
        },
        "id": "46yDFh1TZBlM",
        "outputId": "d46b915f-4b07-46e2-e5d8-70d230a8920f"
      },
      "execution_count": null,
      "outputs": [
        {
          "output_type": "stream",
          "name": "stdout",
          "text": [
            "The original list is : [{'gfg': 2, 'best': 4}, {'gfg': 2, 'is': 3, 'best': 4}, {'gfg': 2}]\n",
            "Maximum keys Dictionary : {'gfg': 2, 'is': 3, 'best': 4}\n"
          ]
        }
      ]
    },
    {
      "cell_type": "markdown",
      "source": [
        "11. Convert Nested dictionary to Mapped Tuple"
      ],
      "metadata": {
        "id": "7M5zYEcwnCDH"
      }
    },
    {
      "cell_type": "code",
      "source": [
        "# Python3 code to demonstrate working of \n",
        "# Convert Nested dictionary to Mapped Tuple\n",
        "# Using defaultdict() + loop\n",
        "from collections import defaultdict    \n",
        "  \n",
        "# initializing dictionary\n",
        "test_dict = {'gfg' : {'x' : 5, 'y' : 6}, 'is' : {'x' : 1, 'y' : 4}, \n",
        "                                      'best' : {'x' : 8, 'y' : 3}}\n",
        "  \n",
        "# printing original dictionary\n",
        "print(\"The original dictionary is : \" + str(test_dict))\n",
        "  \n",
        "# Convert Nested dictionary to Mapped Tuple\n",
        "# Using defaultdict() + loop\n",
        "res = defaultdict(tuple)\n",
        "for key, val in test_dict.items():\n",
        "    for ele in val:\n",
        "        res[ele] += (val[ele], )\n",
        "  \n",
        "# printing result \n",
        "print(\"The grouped dictionary : \" + str(list(res.items())))"
      ],
      "metadata": {
        "id": "FpxpTP80ZEII",
        "colab": {
          "base_uri": "https://localhost:8080/"
        },
        "outputId": "68fefedb-ee21-49ce-ca80-f0e6849cca79"
      },
      "execution_count": null,
      "outputs": [
        {
          "output_type": "stream",
          "name": "stdout",
          "text": [
            "The original dictionary is : {'gfg': {'x': 5, 'y': 6}, 'is': {'x': 1, 'y': 4}, 'best': {'x': 8, 'y': 3}}\n",
            "The grouped dictionary : [('x', (5, 1, 8)), ('y', (6, 4, 3))]\n"
          ]
        }
      ]
    },
    {
      "cell_type": "markdown",
      "source": [
        "12. Convert Matrix to dictionary"
      ],
      "metadata": {
        "id": "7B7l1pnsoHiz"
      }
    },
    {
      "cell_type": "code",
      "source": [
        "# Python3 code to demonstrate working of \n",
        "# Convert Matrix to dictionary \n",
        "# Using dictionary comprehension + range()\n",
        "  \n",
        "# initializing list\n",
        "test_list = [[5, 6, 7], [8, 3, 2], [8, 2, 1]] \n",
        "  \n",
        "# printing original list\n",
        "print(\"The original list is : \" + str(test_list))\n",
        "  \n",
        "# using dictionary comprehension for iteration\n",
        "res = {idx + 1 : test_list[idx] for idx in range(len(test_list))}\n",
        "  \n",
        "# printing result \n",
        "print(\"The constructed dictionary : \" + str(res))"
      ],
      "metadata": {
        "colab": {
          "base_uri": "https://localhost:8080/"
        },
        "id": "GnqtxVuvnHmr",
        "outputId": "9181ad5c-2aca-40ac-df39-7384d3c52f1f"
      },
      "execution_count": null,
      "outputs": [
        {
          "output_type": "stream",
          "name": "stdout",
          "text": [
            "The original list is : [[5, 6, 7], [8, 3, 2], [8, 2, 1]]\n",
            "The constructed dictionary : {1: [5, 6, 7], 2: [8, 3, 2], 3: [8, 2, 1]}\n"
          ]
        }
      ]
    },
    {
      "cell_type": "markdown",
      "source": [
        "13. Extract Unique values dictionary values"
      ],
      "metadata": {
        "id": "LwSv4mJgro3h"
      }
    },
    {
      "cell_type": "code",
      "source": [
        "# Python3 code to demonstrate working of \n",
        "# Extract Unique values dictionary values\n",
        "# Using set comprehension + values() + sorted()\n",
        "  \n",
        "# initializing dictionary\n",
        "test_dict = {'gfg' : [5, 6, 7, 8],\n",
        "             'is' : [10, 11, 7, 5],\n",
        "             'best' : [6, 12, 10, 8],\n",
        "             'for' : [1, 2, 5]}\n",
        "  \n",
        "# printing original dictionary\n",
        "print(\"The original dictionary is : \" + str(test_dict))\n",
        "  \n",
        "# Extract Unique values dictionary values\n",
        "# Using set comprehension + values() + sorted()\n",
        "res = list(sorted({ele for val in test_dict.values() for ele in val}))\n",
        "  \n",
        "# printing result \n",
        "print(\"The unique values list is : \" + str(res)) "
      ],
      "metadata": {
        "id": "xQGhQBrSoOTn",
        "colab": {
          "base_uri": "https://localhost:8080/"
        },
        "outputId": "7990f1f3-6850-4c84-a67f-08caa83b28a2"
      },
      "execution_count": null,
      "outputs": [
        {
          "output_type": "stream",
          "name": "stdout",
          "text": [
            "The original dictionary is : {'gfg': [5, 6, 7, 8], 'is': [10, 11, 7, 5], 'best': [6, 12, 10, 8], 'for': [1, 2, 5]}\n",
            "The unique values list is : [1, 2, 5, 6, 7, 8, 10, 11, 12]\n"
          ]
        }
      ]
    },
    {
      "cell_type": "markdown",
      "source": [
        "14. Write a Python function to find the Max of three numbers."
      ],
      "metadata": {
        "id": "4fiG-w0LsRUi"
      }
    },
    {
      "cell_type": "code",
      "source": [
        "def max_of_two( x, y ):\n",
        "    if x > y:\n",
        "        return x\n",
        "    return y\n",
        "def max_of_three( x, y, z ):\n",
        "    return max_of_two( x, max_of_two( y, z ) )\n",
        "print(max_of_three(3, 6, -5))"
      ],
      "metadata": {
        "colab": {
          "base_uri": "https://localhost:8080/"
        },
        "id": "tQh7RLcZrtpJ",
        "outputId": "3dcbe334-b848-42fd-de60-196331e877d8"
      },
      "execution_count": null,
      "outputs": [
        {
          "output_type": "stream",
          "name": "stdout",
          "text": [
            "6\n"
          ]
        }
      ]
    },
    {
      "cell_type": "markdown",
      "source": [
        "15 Find the most frequent value in a NumPy array"
      ],
      "metadata": {
        "id": "J_pBOZ8SGNz_"
      }
    },
    {
      "cell_type": "code",
      "source": [
        "import numpy as np\n",
        "  \n",
        "  \n",
        "# create array\n",
        "x = np.array([1,2,3,4,5,1,2,1,1,1])\n",
        "print(\"Original array:\")\n",
        "print(x)\n",
        "  \n",
        "print(\"Most frequent value in the above array:\")\n",
        "print(np.bincount(x).argmax())"
      ],
      "metadata": {
        "id": "MK7XnML3saRO",
        "colab": {
          "base_uri": "https://localhost:8080/"
        },
        "outputId": "8419c6d7-f2c1-410a-f710-c3883ea74912"
      },
      "execution_count": 1,
      "outputs": [
        {
          "output_type": "stream",
          "name": "stdout",
          "text": [
            "Original array:\n",
            "[1 2 3 4 5 1 2 1 1 1]\n",
            "Most frequent value in the above array:\n",
            "1\n"
          ]
        }
      ]
    },
    {
      "cell_type": "code",
      "source": [
        ""
      ],
      "metadata": {
        "id": "Lvmz9G6bGW23"
      },
      "execution_count": null,
      "outputs": []
    }
  ]
}