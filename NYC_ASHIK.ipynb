{
  "nbformat": 4,
  "nbformat_minor": 0,
  "metadata": {
    "colab": {
      "name": "NYC_ASHIK.ipynb",
      "provenance": [],
      "collapsed_sections": [
        "Y06xIdG26kRF",
        "iLjwD-Z5xtU0",
        "Mw3euTvY0MAz",
        "WGu4dJeQ5QUR",
        "vsQGWtr4456U"
      ],
      "include_colab_link": true
    },
    "kernelspec": {
      "display_name": "Python 3",
      "language": "python",
      "name": "python3"
    },
    "language_info": {
      "codemirror_mode": {
        "name": "ipython",
        "version": 3
      },
      "file_extension": ".py",
      "mimetype": "text/x-python",
      "name": "python",
      "nbconvert_exporter": "python",
      "pygments_lexer": "ipython3",
      "version": "3.6.6"
    }
  },
  "cells": [
    {
      "cell_type": "markdown",
      "metadata": {
        "id": "view-in-github",
        "colab_type": "text"
      },
      "source": [
        "<a href=\"https://colab.research.google.com/github/Ashik9576/Carduovascular-Risk-Prediction/blob/main/NYC_ASHIK.ipynb\" target=\"_parent\"><img src=\"https://colab.research.google.com/assets/colab-badge.svg\" alt=\"Open In Colab\"/></a>"
      ]
    },
    {
      "cell_type": "markdown",
      "metadata": {
        "id": "tOGC-qoyhJeX"
      },
      "source": [
        "# <b><u> Project Title : Taxi trip time Prediction : Predicting total ride duration of taxi trips in New York City</u></b>"
      ]
    },
    {
      "cell_type": "markdown",
      "metadata": {
        "id": "Y06xIdG26kRF"
      },
      "source": [
        "## <b> Problem Description </b>\n",
        "\n",
        "### Your task is to build a model that predicts the total ride duration of taxi trips in New York City. Your primary dataset is one released by the NYC Taxi and Limousine Commission, which includes pickup time, geo-coordinates, number of passengers, and several other variables."
      ]
    },
    {
      "cell_type": "markdown",
      "metadata": {
        "id": "WWeU1f9bwqQq"
      },
      "source": [
        "## <b> Data Description </b>\n",
        "\n",
        "### The dataset is based on the 2016 NYC Yellow Cab trip record data made available in Big Query on Google Cloud Platform. The data was originally published by the NYC Taxi and Limousine Commission (TLC). The data was sampled and cleaned for the purposes of this project. Based on individual trip attributes, you should predict the duration of each trip in the test set.\n",
        "\n",
        "### <b>NYC Taxi Data.csv</b> - the training set (contains 1458644 trip records)\n",
        "\n",
        "\n",
        "### Data fields\n",
        "* #### id - a unique identifier for each trip\n",
        "* #### vendor_id - a code indicating the provider associated with the trip record\n",
        "* #### pickup_datetime - date and time when the meter was engaged\n",
        "* #### dropoff_datetime - date and time when the meter was disengaged\n",
        "* #### passenger_count - the number of passengers in the vehicle (driver entered value)\n",
        "* #### pickup_longitude - the longitude where the meter was engaged\n",
        "* #### pickup_latitude - the latitude where the meter was engaged\n",
        "* #### dropoff_longitude - the longitude where the meter was disengaged\n",
        "* #### dropoff_latitude - the latitude where the meter was disengaged\n",
        "* #### store_and_fwd_flag - This flag indicates whether the trip record was held in vehicle memory before sending to the vendor because the vehicle did not have a connection to the server - Y=store and forward; N=not a store and forward trip\n",
        "* #### trip_duration - duration of the trip in seconds"
      ]
    },
    {
      "cell_type": "markdown",
      "metadata": {
        "id": "K81Vy_0ywMRw"
      },
      "source": [
        "# **Imporing the required Libraries**"
      ]
    },
    {
      "cell_type": "code",
      "metadata": {
        "colab": {
          "base_uri": "https://localhost:8080/"
        },
        "id": "dByMsuzT8Tnw",
        "outputId": "51df7ea7-2767-4011-bfe3-905a61ddddc9"
      },
      "source": [
        "# Importing the libraries\n",
        "!pip install pycountry\n",
        "!pip install haversine\n",
        "\n",
        "import numpy as np\n",
        "import pandas as pd\n",
        "import matplotlib.pyplot as plt\n",
        "%matplotlib inline\n",
        "import seaborn as sns\n",
        "import pycountry as pc\n",
        "import matplotlib.ticker as mtick\n",
        "import plotly.express as px\n",
        "from numpy import math\n",
        "from math import sqrt\n",
        "from sklearn.preprocessing import MinMaxScaler\n",
        "from sklearn.model_selection import train_test_split\n",
        "from sklearn.linear_model import LinearRegression\n",
        "from sklearn.metrics import r2_score\n",
        "from sklearn.metrics import mean_squared_error\n",
        "from sklearn.tree import DecisionTreeRegressor\n",
        "from sklearn.linear_model import Ridge, Lasso\n",
        "from sklearn.model_selection import KFold\n",
        "from sklearn.neighbors import KNeighborsRegressor\n",
        "from datetime import datetime\n",
        "from sklearn.ensemble import RandomForestRegressor\n",
        "from sklearn import metrics\n",
        "from sklearn.model_selection import train_test_split, GridSearchCV\n",
        "from haversine import haversine\n",
        "from sklearn.model_selection import ShuffleSplit\n",
        "import warnings; warnings.simplefilter('ignore')"
      ],
      "execution_count": null,
      "outputs": [
        {
          "output_type": "stream",
          "name": "stdout",
          "text": [
            "Requirement already satisfied: pycountry in /usr/local/lib/python3.7/dist-packages (20.7.3)\n",
            "Requirement already satisfied: haversine in /usr/local/lib/python3.7/dist-packages (2.5.1)\n"
          ]
        }
      ]
    },
    {
      "cell_type": "code",
      "metadata": {
        "colab": {
          "base_uri": "https://localhost:8080/"
        },
        "id": "K9sK-hnLYbJb",
        "outputId": "c6918405-e3e0-4274-a0d4-37ec22458cbb"
      },
      "source": [
        "# mounting drive\n",
        "from google.colab import drive\n",
        "drive.mount('/content/drive')"
      ],
      "execution_count": null,
      "outputs": [
        {
          "output_type": "stream",
          "name": "stdout",
          "text": [
            "Drive already mounted at /content/drive; to attempt to forcibly remount, call drive.mount(\"/content/drive\", force_remount=True).\n"
          ]
        }
      ]
    },
    {
      "cell_type": "markdown",
      "metadata": {
        "id": "OsdMLaeswjF0"
      },
      "source": [
        "# **Loading Data**"
      ]
    },
    {
      "cell_type": "code",
      "metadata": {
        "id": "9E5Aj0J4Ybkl"
      },
      "source": [
        "# creating directory path\n",
        "nyc = pd.read_csv('/content/drive/MyDrive/NYC Taxi Trip Time Prediction - Ashik Kumar/NYC Taxi Data.csv')"
      ],
      "execution_count": null,
      "outputs": []
    },
    {
      "cell_type": "markdown",
      "metadata": {
        "id": "3pEfbF_5y-wn"
      },
      "source": [
        "**Creating Copy of Data**"
      ]
    },
    {
      "cell_type": "code",
      "metadata": {
        "id": "mJSM7ljuYb5x"
      },
      "source": [
        "# creating a copy\n",
        "nycc=nyc.copy()"
      ],
      "execution_count": null,
      "outputs": []
    },
    {
      "cell_type": "markdown",
      "metadata": {
        "id": "iLjwD-Z5xtU0"
      },
      "source": [
        "# **File Structure and content**"
      ]
    },
    {
      "cell_type": "code",
      "metadata": {
        "colab": {
          "base_uri": "https://localhost:8080/"
        },
        "id": "_C2AuHY-Yb13",
        "outputId": "eacb1ae1-36cd-4016-fd93-8ba11b53a4f1"
      },
      "source": [
        "#no. of row and column\n",
        "print(\"We have {} rows.\".format(nycc.shape[0]))\n",
        "print(\"We have {} columns.\".format(nycc.shape[1]))\n",
        "nycc.iloc[1,:]"
      ],
      "execution_count": null,
      "outputs": [
        {
          "output_type": "stream",
          "name": "stdout",
          "text": [
            "We have 1458644 rows.\n",
            "We have 11 columns.\n"
          ]
        },
        {
          "output_type": "execute_result",
          "data": {
            "text/plain": [
              "id                              id2377394\n",
              "vendor_id                               1\n",
              "pickup_datetime       2016-06-12 00:43:35\n",
              "dropoff_datetime      2016-06-12 00:54:38\n",
              "passenger_count                         1\n",
              "pickup_longitude                 -73.9804\n",
              "pickup_latitude                   40.7386\n",
              "dropoff_longitude                -73.9995\n",
              "dropoff_latitude                  40.7312\n",
              "store_and_fwd_flag                      N\n",
              "trip_duration                         663\n",
              "Name: 1, dtype: object"
            ]
          },
          "metadata": {},
          "execution_count": 10
        }
      ]
    },
    {
      "cell_type": "markdown",
      "metadata": {
        "id": "NmqF3Fe9ztQJ"
      },
      "source": [
        "**At first galance, We have seen that the type of each variable and how they look like.**"
      ]
    },
    {
      "cell_type": "markdown",
      "metadata": {
        "id": "Mw3euTvY0MAz"
      },
      "source": [
        "# **MISSING VALUES**\n",
        "Knowing about missing values is important because they indicate how much we dont's know about our data. Making inferences based on just a few cases is often unwise. In addition, many modelling procedures break down when missing values are involved and the corresponding rows will either have to be removed completely or the values need to be estimated somehow.\n"
      ]
    },
    {
      "cell_type": "code",
      "metadata": {
        "colab": {
          "base_uri": "https://localhost:8080/"
        },
        "id": "LeU_fzc-nsgQ",
        "outputId": "b1465640-1e2d-49b9-8b1e-38ecd56e6a8e"
      },
      "source": [
        "#check null values in Data frame\n",
        "nyc.isnull().sum()\n"
      ],
      "execution_count": null,
      "outputs": [
        {
          "output_type": "execute_result",
          "data": {
            "text/plain": [
              "id                    0\n",
              "vendor_id             0\n",
              "pickup_datetime       0\n",
              "dropoff_datetime      0\n",
              "passenger_count       0\n",
              "pickup_longitude      0\n",
              "pickup_latitude       0\n",
              "dropoff_longitude     0\n",
              "dropoff_latitude      0\n",
              "store_and_fwd_flag    0\n",
              "trip_duration         0\n",
              "dtype: int64"
            ]
          },
          "metadata": {},
          "execution_count": 11
        }
      ]
    },
    {
      "cell_type": "markdown",
      "metadata": {
        "id": "M0W7uKB22es1"
      },
      "source": [
        "**Fortunately, in this dataset we do not have any missing values which is great**"
      ]
    },
    {
      "cell_type": "markdown",
      "metadata": {
        "id": "WGu4dJeQ5QUR"
      },
      "source": [
        "# **Describing Dataset**"
      ]
    },
    {
      "cell_type": "code",
      "metadata": {
        "colab": {
          "base_uri": "https://localhost:8080/"
        },
        "id": "bvfd-fswYb72",
        "outputId": "c8e49daa-2a4f-4afb-faec-c59ae7ba9fef"
      },
      "source": [
        "# Visualizing the dataset\n",
        "nycc.head()"
      ],
      "execution_count": null,
      "outputs": [
        {
          "output_type": "execute_result",
          "data": {
            "text/html": [
              "<div>\n",
              "<style scoped>\n",
              "    .dataframe tbody tr th:only-of-type {\n",
              "        vertical-align: middle;\n",
              "    }\n",
              "\n",
              "    .dataframe tbody tr th {\n",
              "        vertical-align: top;\n",
              "    }\n",
              "\n",
              "    .dataframe thead th {\n",
              "        text-align: right;\n",
              "    }\n",
              "</style>\n",
              "<table border=\"1\" class=\"dataframe\">\n",
              "  <thead>\n",
              "    <tr style=\"text-align: right;\">\n",
              "      <th></th>\n",
              "      <th>id</th>\n",
              "      <th>vendor_id</th>\n",
              "      <th>pickup_datetime</th>\n",
              "      <th>dropoff_datetime</th>\n",
              "      <th>passenger_count</th>\n",
              "      <th>pickup_longitude</th>\n",
              "      <th>pickup_latitude</th>\n",
              "      <th>dropoff_longitude</th>\n",
              "      <th>dropoff_latitude</th>\n",
              "      <th>store_and_fwd_flag</th>\n",
              "      <th>trip_duration</th>\n",
              "    </tr>\n",
              "  </thead>\n",
              "  <tbody>\n",
              "    <tr>\n",
              "      <th>0</th>\n",
              "      <td>id2875421</td>\n",
              "      <td>2</td>\n",
              "      <td>2016-03-14 17:24:55</td>\n",
              "      <td>2016-03-14 17:32:30</td>\n",
              "      <td>1</td>\n",
              "      <td>-73.982155</td>\n",
              "      <td>40.767937</td>\n",
              "      <td>-73.964630</td>\n",
              "      <td>40.765602</td>\n",
              "      <td>N</td>\n",
              "      <td>455</td>\n",
              "    </tr>\n",
              "    <tr>\n",
              "      <th>1</th>\n",
              "      <td>id2377394</td>\n",
              "      <td>1</td>\n",
              "      <td>2016-06-12 00:43:35</td>\n",
              "      <td>2016-06-12 00:54:38</td>\n",
              "      <td>1</td>\n",
              "      <td>-73.980415</td>\n",
              "      <td>40.738564</td>\n",
              "      <td>-73.999481</td>\n",
              "      <td>40.731152</td>\n",
              "      <td>N</td>\n",
              "      <td>663</td>\n",
              "    </tr>\n",
              "    <tr>\n",
              "      <th>2</th>\n",
              "      <td>id3858529</td>\n",
              "      <td>2</td>\n",
              "      <td>2016-01-19 11:35:24</td>\n",
              "      <td>2016-01-19 12:10:48</td>\n",
              "      <td>1</td>\n",
              "      <td>-73.979027</td>\n",
              "      <td>40.763939</td>\n",
              "      <td>-74.005333</td>\n",
              "      <td>40.710087</td>\n",
              "      <td>N</td>\n",
              "      <td>2124</td>\n",
              "    </tr>\n",
              "    <tr>\n",
              "      <th>3</th>\n",
              "      <td>id3504673</td>\n",
              "      <td>2</td>\n",
              "      <td>2016-04-06 19:32:31</td>\n",
              "      <td>2016-04-06 19:39:40</td>\n",
              "      <td>1</td>\n",
              "      <td>-74.010040</td>\n",
              "      <td>40.719971</td>\n",
              "      <td>-74.012268</td>\n",
              "      <td>40.706718</td>\n",
              "      <td>N</td>\n",
              "      <td>429</td>\n",
              "    </tr>\n",
              "    <tr>\n",
              "      <th>4</th>\n",
              "      <td>id2181028</td>\n",
              "      <td>2</td>\n",
              "      <td>2016-03-26 13:30:55</td>\n",
              "      <td>2016-03-26 13:38:10</td>\n",
              "      <td>1</td>\n",
              "      <td>-73.973053</td>\n",
              "      <td>40.793209</td>\n",
              "      <td>-73.972923</td>\n",
              "      <td>40.782520</td>\n",
              "      <td>N</td>\n",
              "      <td>435</td>\n",
              "    </tr>\n",
              "  </tbody>\n",
              "</table>\n",
              "</div>"
            ],
            "text/plain": [
              "          id  vendor_id  ... store_and_fwd_flag trip_duration\n",
              "0  id2875421          2  ...                  N           455\n",
              "1  id2377394          1  ...                  N           663\n",
              "2  id3858529          2  ...                  N          2124\n",
              "3  id3504673          2  ...                  N           429\n",
              "4  id2181028          2  ...                  N           435\n",
              "\n",
              "[5 rows x 11 columns]"
            ]
          },
          "metadata": {},
          "execution_count": 12
        }
      ]
    },
    {
      "cell_type": "code",
      "metadata": {
        "colab": {
          "base_uri": "https://localhost:8080/"
        },
        "id": "hgdr3_3gYb0B",
        "outputId": "3d81752b-d913-4406-db2d-83c13bc472ae"
      },
      "source": [
        "# summery of dataframe\n",
        "nyc.describe()"
      ],
      "execution_count": null,
      "outputs": [
        {
          "output_type": "execute_result",
          "data": {
            "text/html": [
              "<div>\n",
              "<style scoped>\n",
              "    .dataframe tbody tr th:only-of-type {\n",
              "        vertical-align: middle;\n",
              "    }\n",
              "\n",
              "    .dataframe tbody tr th {\n",
              "        vertical-align: top;\n",
              "    }\n",
              "\n",
              "    .dataframe thead th {\n",
              "        text-align: right;\n",
              "    }\n",
              "</style>\n",
              "<table border=\"1\" class=\"dataframe\">\n",
              "  <thead>\n",
              "    <tr style=\"text-align: right;\">\n",
              "      <th></th>\n",
              "      <th>vendor_id</th>\n",
              "      <th>passenger_count</th>\n",
              "      <th>pickup_longitude</th>\n",
              "      <th>pickup_latitude</th>\n",
              "      <th>dropoff_longitude</th>\n",
              "      <th>dropoff_latitude</th>\n",
              "      <th>trip_duration</th>\n",
              "    </tr>\n",
              "  </thead>\n",
              "  <tbody>\n",
              "    <tr>\n",
              "      <th>count</th>\n",
              "      <td>1.458644e+06</td>\n",
              "      <td>1.458644e+06</td>\n",
              "      <td>1.458644e+06</td>\n",
              "      <td>1.458644e+06</td>\n",
              "      <td>1.458644e+06</td>\n",
              "      <td>1.458644e+06</td>\n",
              "      <td>1.458644e+06</td>\n",
              "    </tr>\n",
              "    <tr>\n",
              "      <th>mean</th>\n",
              "      <td>1.534950e+00</td>\n",
              "      <td>1.664530e+00</td>\n",
              "      <td>-7.397349e+01</td>\n",
              "      <td>4.075092e+01</td>\n",
              "      <td>-7.397342e+01</td>\n",
              "      <td>4.075180e+01</td>\n",
              "      <td>9.594923e+02</td>\n",
              "    </tr>\n",
              "    <tr>\n",
              "      <th>std</th>\n",
              "      <td>4.987772e-01</td>\n",
              "      <td>1.314242e+00</td>\n",
              "      <td>7.090186e-02</td>\n",
              "      <td>3.288119e-02</td>\n",
              "      <td>7.064327e-02</td>\n",
              "      <td>3.589056e-02</td>\n",
              "      <td>5.237432e+03</td>\n",
              "    </tr>\n",
              "    <tr>\n",
              "      <th>min</th>\n",
              "      <td>1.000000e+00</td>\n",
              "      <td>0.000000e+00</td>\n",
              "      <td>-1.219333e+02</td>\n",
              "      <td>3.435970e+01</td>\n",
              "      <td>-1.219333e+02</td>\n",
              "      <td>3.218114e+01</td>\n",
              "      <td>1.000000e+00</td>\n",
              "    </tr>\n",
              "    <tr>\n",
              "      <th>25%</th>\n",
              "      <td>1.000000e+00</td>\n",
              "      <td>1.000000e+00</td>\n",
              "      <td>-7.399187e+01</td>\n",
              "      <td>4.073735e+01</td>\n",
              "      <td>-7.399133e+01</td>\n",
              "      <td>4.073588e+01</td>\n",
              "      <td>3.970000e+02</td>\n",
              "    </tr>\n",
              "    <tr>\n",
              "      <th>50%</th>\n",
              "      <td>2.000000e+00</td>\n",
              "      <td>1.000000e+00</td>\n",
              "      <td>-7.398174e+01</td>\n",
              "      <td>4.075410e+01</td>\n",
              "      <td>-7.397975e+01</td>\n",
              "      <td>4.075452e+01</td>\n",
              "      <td>6.620000e+02</td>\n",
              "    </tr>\n",
              "    <tr>\n",
              "      <th>75%</th>\n",
              "      <td>2.000000e+00</td>\n",
              "      <td>2.000000e+00</td>\n",
              "      <td>-7.396733e+01</td>\n",
              "      <td>4.076836e+01</td>\n",
              "      <td>-7.396301e+01</td>\n",
              "      <td>4.076981e+01</td>\n",
              "      <td>1.075000e+03</td>\n",
              "    </tr>\n",
              "    <tr>\n",
              "      <th>max</th>\n",
              "      <td>2.000000e+00</td>\n",
              "      <td>9.000000e+00</td>\n",
              "      <td>-6.133553e+01</td>\n",
              "      <td>5.188108e+01</td>\n",
              "      <td>-6.133553e+01</td>\n",
              "      <td>4.392103e+01</td>\n",
              "      <td>3.526282e+06</td>\n",
              "    </tr>\n",
              "  </tbody>\n",
              "</table>\n",
              "</div>"
            ],
            "text/plain": [
              "          vendor_id  passenger_count  ...  dropoff_latitude  trip_duration\n",
              "count  1.458644e+06     1.458644e+06  ...      1.458644e+06   1.458644e+06\n",
              "mean   1.534950e+00     1.664530e+00  ...      4.075180e+01   9.594923e+02\n",
              "std    4.987772e-01     1.314242e+00  ...      3.589056e-02   5.237432e+03\n",
              "min    1.000000e+00     0.000000e+00  ...      3.218114e+01   1.000000e+00\n",
              "25%    1.000000e+00     1.000000e+00  ...      4.073588e+01   3.970000e+02\n",
              "50%    2.000000e+00     1.000000e+00  ...      4.075452e+01   6.620000e+02\n",
              "75%    2.000000e+00     2.000000e+00  ...      4.076981e+01   1.075000e+03\n",
              "max    2.000000e+00     9.000000e+00  ...      4.392103e+01   3.526282e+06\n",
              "\n",
              "[8 rows x 7 columns]"
            ]
          },
          "metadata": {},
          "execution_count": 13
        }
      ]
    },
    {
      "cell_type": "code",
      "metadata": {
        "colab": {
          "base_uri": "https://localhost:8080/"
        },
        "id": "reatgjPP33rC",
        "outputId": "0646cda7-0b9a-41b9-a6f5-44c9e15b838e"
      },
      "source": [
        "nycc['store_and_fwd_flag'].value_counts()"
      ],
      "execution_count": null,
      "outputs": [
        {
          "output_type": "execute_result",
          "data": {
            "text/plain": [
              "N    1450599\n",
              "Y       8045\n",
              "Name: store_and_fwd_flag, dtype: int64"
            ]
          },
          "metadata": {},
          "execution_count": 14
        }
      ]
    },
    {
      "cell_type": "code",
      "metadata": {
        "colab": {
          "base_uri": "https://localhost:8080/"
        },
        "id": "Y2teFJLz4v2q",
        "outputId": "07a41aec-b613-4948-d8fa-e4b912423064"
      },
      "source": [
        "nycc['passenger_count'].value_counts()"
      ],
      "execution_count": null,
      "outputs": [
        {
          "output_type": "execute_result",
          "data": {
            "text/plain": [
              "1    1033540\n",
              "2     210318\n",
              "5      78088\n",
              "3      59896\n",
              "6      48333\n",
              "4      28404\n",
              "0         60\n",
              "7          3\n",
              "9          1\n",
              "8          1\n",
              "Name: passenger_count, dtype: int64"
            ]
          },
          "metadata": {},
          "execution_count": 15
        }
      ]
    },
    {
      "cell_type": "markdown",
      "metadata": {
        "id": "vsQGWtr4456U"
      },
      "source": [
        "# **Reformatting features**\n",
        "\n",
        "There are a variety of features within the dataset and it is important to convert them into the right format such that we can analyse them easily. This would include converting datetime features and string features.\n",
        "\n",
        "Also, one important thing is never to take assumptions without backing it with data. Here, as you can see the trip duration can also be calculated pick up and drop off datetime. We will check whether the given duration is consistent with the calculated trip duration"
      ]
    },
    {
      "cell_type": "code",
      "metadata": {
        "id": "8u3VkscT6_iq",
        "colab": {
          "base_uri": "https://localhost:8080/"
        },
        "outputId": "d0c41b8a-f620-4939-f035-85706db2bbaf"
      },
      "source": [
        "#converting string to datetime features\n",
        "nycc['pickup_datetime']=pd.to_datetime(nycc.pickup_datetime)\n",
        "nycc['dropoff_datetime']=pd.to_datetime(nycc.dropoff_datetime)\n",
        "\n",
        "#converting yes/no flag to 1 and 0\n",
        "nycc['store_and_fwd_flag']=1*(nycc.store_and_fwd_flag.values=='Y')\n",
        "\n",
        "nycc['check_trip_duration'] = (nycc['dropoff_datetime'] - nycc['pickup_datetime']).map(lambda x: x.total_seconds())\n",
        "\n",
        "duration_difference = nycc[np.abs(nycc['check_trip_duration'].values  - nycc['trip_duration'].values) > 1]\n",
        "duration_difference.shape"
      ],
      "execution_count": null,
      "outputs": [
        {
          "output_type": "execute_result",
          "data": {
            "text/plain": [
              "(0, 12)"
            ]
          },
          "metadata": {},
          "execution_count": 16
        }
      ]
    },
    {
      "cell_type": "markdown",
      "metadata": {
        "id": "cl3QsQukrjBX"
      },
      "source": [
        "This implies that there is no inconsistency in data wrt the drop location and trip duration"
      ]
    },
    {
      "cell_type": "code",
      "metadata": {
        "colab": {
          "base_uri": "https://localhost:8080/"
        },
        "id": "rB5EsMRk7rMF",
        "outputId": "511d8e0a-7a3a-4ce1-ebe5-377c8cbe08ae"
      },
      "source": [
        "nycc.head()"
      ],
      "execution_count": null,
      "outputs": [
        {
          "output_type": "execute_result",
          "data": {
            "text/html": [
              "<div>\n",
              "<style scoped>\n",
              "    .dataframe tbody tr th:only-of-type {\n",
              "        vertical-align: middle;\n",
              "    }\n",
              "\n",
              "    .dataframe tbody tr th {\n",
              "        vertical-align: top;\n",
              "    }\n",
              "\n",
              "    .dataframe thead th {\n",
              "        text-align: right;\n",
              "    }\n",
              "</style>\n",
              "<table border=\"1\" class=\"dataframe\">\n",
              "  <thead>\n",
              "    <tr style=\"text-align: right;\">\n",
              "      <th></th>\n",
              "      <th>id</th>\n",
              "      <th>vendor_id</th>\n",
              "      <th>pickup_datetime</th>\n",
              "      <th>dropoff_datetime</th>\n",
              "      <th>passenger_count</th>\n",
              "      <th>pickup_longitude</th>\n",
              "      <th>pickup_latitude</th>\n",
              "      <th>dropoff_longitude</th>\n",
              "      <th>dropoff_latitude</th>\n",
              "      <th>store_and_fwd_flag</th>\n",
              "      <th>trip_duration</th>\n",
              "      <th>check_trip_duration</th>\n",
              "    </tr>\n",
              "  </thead>\n",
              "  <tbody>\n",
              "    <tr>\n",
              "      <th>0</th>\n",
              "      <td>id2875421</td>\n",
              "      <td>2</td>\n",
              "      <td>2016-03-14 17:24:55</td>\n",
              "      <td>2016-03-14 17:32:30</td>\n",
              "      <td>1</td>\n",
              "      <td>-73.982155</td>\n",
              "      <td>40.767937</td>\n",
              "      <td>-73.964630</td>\n",
              "      <td>40.765602</td>\n",
              "      <td>0</td>\n",
              "      <td>455</td>\n",
              "      <td>455.0</td>\n",
              "    </tr>\n",
              "    <tr>\n",
              "      <th>1</th>\n",
              "      <td>id2377394</td>\n",
              "      <td>1</td>\n",
              "      <td>2016-06-12 00:43:35</td>\n",
              "      <td>2016-06-12 00:54:38</td>\n",
              "      <td>1</td>\n",
              "      <td>-73.980415</td>\n",
              "      <td>40.738564</td>\n",
              "      <td>-73.999481</td>\n",
              "      <td>40.731152</td>\n",
              "      <td>0</td>\n",
              "      <td>663</td>\n",
              "      <td>663.0</td>\n",
              "    </tr>\n",
              "    <tr>\n",
              "      <th>2</th>\n",
              "      <td>id3858529</td>\n",
              "      <td>2</td>\n",
              "      <td>2016-01-19 11:35:24</td>\n",
              "      <td>2016-01-19 12:10:48</td>\n",
              "      <td>1</td>\n",
              "      <td>-73.979027</td>\n",
              "      <td>40.763939</td>\n",
              "      <td>-74.005333</td>\n",
              "      <td>40.710087</td>\n",
              "      <td>0</td>\n",
              "      <td>2124</td>\n",
              "      <td>2124.0</td>\n",
              "    </tr>\n",
              "    <tr>\n",
              "      <th>3</th>\n",
              "      <td>id3504673</td>\n",
              "      <td>2</td>\n",
              "      <td>2016-04-06 19:32:31</td>\n",
              "      <td>2016-04-06 19:39:40</td>\n",
              "      <td>1</td>\n",
              "      <td>-74.010040</td>\n",
              "      <td>40.719971</td>\n",
              "      <td>-74.012268</td>\n",
              "      <td>40.706718</td>\n",
              "      <td>0</td>\n",
              "      <td>429</td>\n",
              "      <td>429.0</td>\n",
              "    </tr>\n",
              "    <tr>\n",
              "      <th>4</th>\n",
              "      <td>id2181028</td>\n",
              "      <td>2</td>\n",
              "      <td>2016-03-26 13:30:55</td>\n",
              "      <td>2016-03-26 13:38:10</td>\n",
              "      <td>1</td>\n",
              "      <td>-73.973053</td>\n",
              "      <td>40.793209</td>\n",
              "      <td>-73.972923</td>\n",
              "      <td>40.782520</td>\n",
              "      <td>0</td>\n",
              "      <td>435</td>\n",
              "      <td>435.0</td>\n",
              "    </tr>\n",
              "  </tbody>\n",
              "</table>\n",
              "</div>"
            ],
            "text/plain": [
              "          id  vendor_id  ... trip_duration check_trip_duration\n",
              "0  id2875421          2  ...           455               455.0\n",
              "1  id2377394          1  ...           663               663.0\n",
              "2  id3858529          2  ...          2124              2124.0\n",
              "3  id3504673          2  ...           429               429.0\n",
              "4  id2181028          2  ...           435               435.0\n",
              "\n",
              "[5 rows x 12 columns]"
            ]
          },
          "metadata": {},
          "execution_count": 17
        }
      ]
    },
    {
      "cell_type": "markdown",
      "metadata": {
        "id": "gNdFeIvP9AJr"
      },
      "source": [
        "# **Target Exploration and Data Visualization**\n",
        "In this section we will take at the trip duration is the target variable. It is crucial to understand it in detail as this is what we ate trying to predict accurately."
      ]
    },
    {
      "cell_type": "code",
      "metadata": {
        "colab": {
          "base_uri": "https://localhost:8080/"
        },
        "id": "MUSBYOFw9xg8",
        "outputId": "c0bc3665-773f-420d-9b80-163a6ce88d04"
      },
      "source": [
        "nycc['trip_duration'].describe()/3600   # trip_duration in hour"
      ],
      "execution_count": null,
      "outputs": [
        {
          "output_type": "execute_result",
          "data": {
            "text/plain": [
              "count    405.178889\n",
              "mean       0.266526\n",
              "std        1.454842\n",
              "min        0.000278\n",
              "25%        0.110278\n",
              "50%        0.183889\n",
              "75%        0.298611\n",
              "max      979.522778\n",
              "Name: trip_duration, dtype: float64"
            ]
          },
          "metadata": {},
          "execution_count": 18
        }
      ]
    },
    {
      "cell_type": "markdown",
      "metadata": {
        "id": "cx1On6EA-U6I"
      },
      "source": [
        "Hey! There is a trip with duration of 979 hours. This is a huge outlier and might create problem at the prediction stage. One idea is to log transform the trip duration before prediction to visualize it before."
      ]
    },
    {
      "cell_type": "code",
      "metadata": {
        "colab": {
          "base_uri": "https://localhost:8080/"
        },
        "id": "VwEazREbR3Cs",
        "outputId": "1153a5d2-5fe4-46db-c09d-7776d8839407"
      },
      "source": [
        "nycc['log_trip_duration']=np.log(nycc['trip_duration'].values+1)\n",
        "sns.displot(nycc['log_trip_duration'], kde=False, bins=500)\n",
        "plt.show()"
      ],
      "execution_count": null,
      "outputs": [
        {
          "output_type": "display_data",
          "data": {
            "image/png": "[encoded data removed]",
            "text/plain": [
              "<Figure size 360x360 with 1 Axes>"
            ]
          },
          "metadata": {
            "needs_background": "light"
          }
        }
      ]
    },
    {
      "cell_type": "markdown",
      "metadata": {
        "id": "zZhEQkpyU5cv"
      },
      "source": [
        "1. There are several suspiciously short rides with less than 10 seconds duration\n",
        "2. As discussed earlier, there are few huge outliers near 12."
      ]
    },
    {
      "cell_type": "markdown",
      "metadata": {
        "id": "NWyMDtnvsCXT"
      },
      "source": [
        "**Univariate Visualization**"
      ]
    },
    {
      "cell_type": "code",
      "metadata": {
        "colab": {
          "base_uri": "https://localhost:8080/"
        },
        "id": "Pn5mQRFPUmTw",
        "outputId": "2b3c618d-a581-4f42-ff12-1613e1a1329a"
      },
      "source": [
        "# Passenger count\n",
        "plt.figure(figsize=(10,5))\n",
        "sns.countplot(nycc['passenger_count'])\n",
        "plt.xlabel('Passenger Count')\n",
        "plt.ylabel('Frequency')\n",
        "\n",
        "dict(nycc['passenger_count'].value_counts())"
      ],
      "execution_count": null,
      "outputs": [
        {
          "output_type": "execute_result",
          "data": {
            "text/plain": [
              "{0: 60,\n",
              " 1: 1033540,\n",
              " 2: 210318,\n",
              " 3: 59896,\n",
              " 4: 28404,\n",
              " 5: 78088,\n",
              " 6: 48333,\n",
              " 7: 3,\n",
              " 8: 1,\n",
              " 9: 1}"
            ]
          },
          "metadata": {},
          "execution_count": 20
        },
        {
          "output_type": "display_data",
          "data": {
            "image/png": "[encoded data removed]",
            "text/plain": [
              "<Figure size 720x360 with 1 Axes>"
            ]
          },
          "metadata": {
            "needs_background": "light"
          }
        }
      ]
    },
    {
      "cell_type": "markdown",
      "metadata": {
        "id": "jJ3wLAOlZMyX"
      },
      "source": [
        "**Most of the trip involves only 1 passenger. There are trips with 7-9 passenger but they are very low in nummber.**"
      ]
    },
    {
      "cell_type": "code",
      "metadata": {
        "colab": {
          "base_uri": "https://localhost:8080/"
        },
        "id": "n9qTlKQ-WQOv",
        "outputId": "9abce9e7-18a4-4c1b-f6cc-040b3694c029"
      },
      "source": [
        "# Vendor count\n",
        "plt.figure(figsize=(10,5))\n",
        "sns.countplot(nycc['vendor_id'])\n",
        "plt.xlabel('Vendor ID')\n",
        "plt.ylabel('Frequency')"
      ],
      "execution_count": null,
      "outputs": [
        {
          "output_type": "execute_result",
          "data": {
            "text/plain": [
              "Text(0, 0.5, 'Frequency')"
            ]
          },
          "metadata": {},
          "execution_count": 21
        },
        {
          "output_type": "display_data",
          "data": {
            "image/png": "[encoded data removed]",
            "text/plain": [
              "<Figure size 720x360 with 1 Axes>"
            ]
          },
          "metadata": {
            "needs_background": "light"
          }
        }
      ]
    },
    {
      "cell_type": "markdown",
      "metadata": {
        "id": "XNsBr33rZ4o2"
      },
      "source": [
        "**Vendor 2 has more number of trips as compare to vendor1.**"
      ]
    },
    {
      "cell_type": "code",
      "metadata": {
        "colab": {
          "base_uri": "https://localhost:8080/"
        },
        "id": "HgAsBF3WXz9_",
        "outputId": "392477f2-1948-4d35-da80-90a50ee11c8f"
      },
      "source": [
        "# store and fwd flag count\n",
        "plt.figure(figsize=(10,5))\n",
        "sns.countplot(nycc['store_and_fwd_flag'])\n",
        "plt.xlabel('store_and_fwd_flag')\n",
        "plt.ylabel('Frequency')\n",
        "\n",
        "nycc['store_and_fwd_flag'].value_counts()"
      ],
      "execution_count": null,
      "outputs": [
        {
          "output_type": "execute_result",
          "data": {
            "text/plain": [
              "0    1450599\n",
              "1       8045\n",
              "Name: store_and_fwd_flag, dtype: int64"
            ]
          },
          "metadata": {},
          "execution_count": 22
        },
        {
          "output_type": "display_data",
          "data": {
            "image/png": "[encoded data removed]",
            "text/plain": [
              "<Figure size 720x360 with 1 Axes>"
            ]
          },
          "metadata": {
            "needs_background": "light"
          }
        }
      ]
    },
    {
      "cell_type": "markdown",
      "metadata": {
        "id": "PJw1j4wuaSmr"
      },
      "source": [
        "The store_and_fwd_flag values, indicating whether the trip data was sent immediately to the vendor('0') or held in the memory of the taxi because there was no connection to the server('1'), show that there was almost no storing taking place."
      ]
    },
    {
      "cell_type": "markdown",
      "metadata": {
        "id": "J1CrHa1Bsjdu"
      },
      "source": [
        "Now, we will delve into the datetime features to understand the trend of number of hourly/monthly/daily taxi trips"
      ]
    },
    {
      "cell_type": "code",
      "metadata": {
        "colab": {
          "base_uri": "https://localhost:8080/"
        },
        "id": "j_YELtWHso4g",
        "outputId": "455f0f2d-c81e-4816-b64a-7d1f883b3fb8"
      },
      "source": [
        "nycc['pickup_datetime'].min(), nycc['pickup_datetime'].max()"
      ],
      "execution_count": null,
      "outputs": [
        {
          "output_type": "execute_result",
          "data": {
            "text/plain": [
              "(Timestamp('2016-01-01 00:00:17'), Timestamp('2016-06-30 23:59:39'))"
            ]
          },
          "metadata": {},
          "execution_count": 23
        }
      ]
    },
    {
      "cell_type": "markdown",
      "metadata": {
        "id": "64yo8Jc5tUg-"
      },
      "source": [
        "Clearly, These trips are for first 6 months of 2016. To look at trends, we first need to extract week days and hour of day from the pickup date."
      ]
    },
    {
      "cell_type": "code",
      "metadata": {
        "id": "iTzKFdbPYL-H"
      },
      "source": [
        "# creating a new column(day_of_week) from the pickup_datetime column\n",
        "nycc['day_of_week']=nycc['pickup_datetime'].dt.weekday\n",
        "# creating a new column(hour_of_week) from the pickup_datetime column\n",
        "nycc['hour_of_day']=nycc['pickup_datetime'].dt.hour"
      ],
      "execution_count": null,
      "outputs": []
    },
    {
      "cell_type": "code",
      "metadata": {
        "colab": {
          "base_uri": "https://localhost:8080/"
        },
        "id": "E3WCuLNVdFNI",
        "outputId": "c1706172-63d3-4eff-dfc4-2a87ec3d9dbc"
      },
      "source": [
        "plt.figure(figsize=(10,5))\n",
        "sns.countplot(nycc['day_of_week'])\n",
        "plt.xlabel('Week Day')\n",
        "plt.ylabel('frequency')"
      ],
      "execution_count": null,
      "outputs": [
        {
          "output_type": "execute_result",
          "data": {
            "text/plain": [
              "Text(0, 0.5, 'frequency')"
            ]
          },
          "metadata": {},
          "execution_count": 25
        },
        {
          "output_type": "display_data",
          "data": {
            "image/png": "[encoded data removed]",
            "text/plain": [
              "<Figure size 720x360 with 1 Axes>"
            ]
          },
          "metadata": {
            "needs_background": "light"
          }
        }
      ]
    },
    {
      "cell_type": "markdown",
      "metadata": {
        "id": "qfAL08XDi_l0"
      },
      "source": [
        "**Number of pickups for weekends is much lower than weeks days with a peak on Thurusday(4). Note that here weekday is a decimal number, where 0 is Sunday and 6 is Saturday**"
      ]
    },
    {
      "cell_type": "code",
      "metadata": {
        "colab": {
          "base_uri": "https://localhost:8080/"
        },
        "id": "2hdD7O9udhUb",
        "outputId": "300c82c4-3d16-4ae9-f7ec-5b2e27407fe6"
      },
      "source": [
        "plt.figure(figsize=(10,5))\n",
        "sns.countplot(nycc['hour_of_day'])\n",
        "plt.xlabel('hour of Day')\n",
        "plt.ylabel('frequency')"
      ],
      "execution_count": null,
      "outputs": [
        {
          "output_type": "execute_result",
          "data": {
            "text/plain": [
              "Text(0, 0.5, 'frequency')"
            ]
          },
          "metadata": {},
          "execution_count": 26
        },
        {
          "output_type": "display_data",
          "data": {
            "image/png": "[encoded data removed]",
            "text/plain": [
              "<Figure size 720x360 with 1 Axes>"
            ]
          },
          "metadata": {
            "needs_background": "light"
          }
        }
      ]
    },
    {
      "cell_type": "markdown",
      "metadata": {
        "id": "D1o4s2Sdjysw"
      },
      "source": [
        "Number of pickups as expected is highest in late evening. However, it is much lower during the morning peak hours."
      ]
    },
    {
      "cell_type": "markdown",
      "metadata": {
        "id": "O5MqqvvntrP1"
      },
      "source": [
        "**Lattitude & Longitude**"
      ]
    },
    {
      "cell_type": "markdown",
      "metadata": {
        "id": "1neir4PhtzBU"
      },
      "source": [
        "Lets look at the geospatial or location features to check consistency. They should not vary much as we are only considering trips within New York city."
      ]
    },
    {
      "cell_type": "code",
      "metadata": {
        "colab": {
          "base_uri": "https://localhost:8080/"
        },
        "id": "zmo4cdXBt5ri",
        "outputId": "6a5dbe85-aa36-46d9-caff-d83bde78a962"
      },
      "source": [
        "sns.set(style=\"white\", palette=\"muted\", color_codes=True)\n",
        "f, axes = plt.subplots(2,2,figsize=(10, 10), sharex=False, sharey = False)\n",
        "sns.despine(left=True)\n",
        "sns.distplot(nycc['pickup_latitude'].values, label = 'pickup_latitude',color=\"b\",bins = 100, ax=axes[0,0])\n",
        "sns.distplot(nycc['pickup_longitude'].values, label = 'pickup_longitude',color=\"r\",bins =100, ax=axes[1,0])\n",
        "sns.distplot(nycc['dropoff_latitude'].values, label = 'dropoff_latitude',color=\"b\",bins =100, ax=axes[0,1])\n",
        "sns.distplot(nycc['dropoff_longitude'].values, label = 'dropoff_longitude',color=\"r\",bins =100, ax=axes[1,1])\n",
        "plt.setp(axes, yticks=[])\n",
        "plt.tight_layout()\n",
        "plt.show()"
      ],
      "execution_count": null,
      "outputs": [
        {
          "output_type": "display_data",
          "data": {
            "image/png": "[encoded data removed]",
            "text/plain": [
              "<Figure size 720x720 with 4 Axes>"
            ]
          },
          "metadata": {}
        }
      ]
    },
    {
      "cell_type": "markdown",
      "metadata": {
        "id": "WaELKTz1u9ZV"
      },
      "source": [
        "Findings - (Here, red represents pickup and dropoff Longitudes & blue represents pickup & dropoff lattitudes)\n",
        "\n",
        "1. From the plot above it is clear that pick and drop latitude are centered around 40 to 41, and longitude are situated around -74 to -73.\n",
        "2. Some extreme co-ordinates has squeezed the plot such that we see a spike here\n",
        "3. A good idea is to remove these outliers and look at the distribution more closely"
      ]
    },
    {
      "cell_type": "code",
      "metadata": {
        "colab": {
          "base_uri": "https://localhost:8080/"
        },
        "id": "IiGlua2QvKRm",
        "outputId": "fe166055-e293-4fd6-d554-153fca286b3c"
      },
      "source": [
        "nycc = nycc.loc[(nycc.pickup_latitude > 40.6) & (nycc.pickup_latitude < 40.9)]\n",
        "nycc = nycc.loc[(nycc.dropoff_latitude>40.6) & (nycc.dropoff_latitude < 40.9)]\n",
        "nycc = nycc.loc[(nycc.dropoff_longitude > -74.05) & (nycc.dropoff_longitude < -73.7)]\n",
        "nycc = nycc.loc[(nycc.pickup_longitude > -74.05) & (nycc.pickup_longitude < -73.7)]\n",
        "df_data_new = nycc.copy()\n",
        "sns.set(style=\"white\", palette=\"muted\", color_codes=True)\n",
        "f, axes = plt.subplots(2,2,figsize=(10, 10), sharex=False, sharey = False)#\n",
        "sns.despine(left=True)\n",
        "sns.distplot(df_data_new['pickup_latitude'].values, label = 'pickup_latitude',color=\"b\",bins = 100, ax=axes[0,0])\n",
        "sns.distplot(df_data_new['pickup_longitude'].values, label = 'pickup_longitude',color=\"r\",bins =100, ax=axes[0,1])\n",
        "sns.distplot(df_data_new['dropoff_latitude'].values, label = 'dropoff_latitude',color=\"b\",bins =100, ax=axes[1, 0])\n",
        "sns.distplot(df_data_new['dropoff_longitude'].values, label = 'dropoff_longitude',color=\"r\",bins =100, ax=axes[1, 1])\n",
        "plt.setp(axes, yticks=[])\n",
        "plt.tight_layout()\n",
        "\n",
        "plt.show()"
      ],
      "execution_count": null,
      "outputs": [
        {
          "output_type": "display_data",
          "data": {
            "image/png": "[encoded data removed]",
            "text/plain": [
              "<Figure size 720x720 with 4 Axes>"
            ]
          },
          "metadata": {}
        }
      ]
    },
    {
      "cell_type": "markdown",
      "metadata": {
        "id": "FgvZkd8qvuj5"
      },
      "source": [
        "* We have a much better view of the distribution of coordinates instead of spikes. And we see that most trips are concentrated between these lat long only with a few significant clusters.\n",
        "* These clusters are represented by the numerous peaks in the lattitude and longitude histograms"
      ]
    },
    {
      "cell_type": "markdown",
      "metadata": {
        "id": "ajGfblKlv2Dq"
      },
      "source": [
        "**Bivariate Relations with Target**\n",
        "\n",
        "---\n",
        "\n",
        "\n",
        "Now that we have gone through all the basic features one by one. Let us start looking at their relation with the target. This will help us in selecting and extracting features at the modelling stage."
      ]
    },
    {
      "cell_type": "code",
      "metadata": {
        "colab": {
          "base_uri": "https://localhost:8080/"
        },
        "id": "BpshJ4o_vc5t",
        "outputId": "1fc11901-80a9-4255-d54b-7af366856b41"
      },
      "source": [
        "nycc.columns"
      ],
      "execution_count": null,
      "outputs": [
        {
          "output_type": "execute_result",
          "data": {
            "text/plain": [
              "Index(['id', 'vendor_id', 'pickup_datetime', 'dropoff_datetime',\n",
              "       'passenger_count', 'pickup_longitude', 'pickup_latitude',\n",
              "       'dropoff_longitude', 'dropoff_latitude', 'store_and_fwd_flag',\n",
              "       'trip_duration', 'check_trip_duration', 'log_trip_duration',\n",
              "       'day_of_week', 'hour_of_day'],\n",
              "      dtype='object')"
            ]
          },
          "metadata": {},
          "execution_count": 29
        }
      ]
    },
    {
      "cell_type": "markdown",
      "metadata": {
        "id": "xS99EHh7wtVY"
      },
      "source": [
        "**Trip Duration vs Weekday**\n",
        "\n",
        "For different week days, the trip durations can vary as different week days might have different traffic densities especially the weekends might have a much different patterns as compared to working days. Weekday is taken as a decimal number, where 0 - Sunday and 6 is Saturday."
      ]
    },
    {
      "cell_type": "code",
      "metadata": {
        "colab": {
          "base_uri": "https://localhost:8080/"
        },
        "id": "6x4jsZj9yZk0",
        "outputId": "76cf2a2b-af82-450c-87d8-918673744536"
      },
      "source": [
        "nycc.head()"
      ],
      "execution_count": null,
      "outputs": [
        {
          "output_type": "execute_result",
          "data": {
            "text/html": [
              "<div>\n",
              "<style scoped>\n",
              "    .dataframe tbody tr th:only-of-type {\n",
              "        vertical-align: middle;\n",
              "    }\n",
              "\n",
              "    .dataframe tbody tr th {\n",
              "        vertical-align: top;\n",
              "    }\n",
              "\n",
              "    .dataframe thead th {\n",
              "        text-align: right;\n",
              "    }\n",
              "</style>\n",
              "<table border=\"1\" class=\"dataframe\">\n",
              "  <thead>\n",
              "    <tr style=\"text-align: right;\">\n",
              "      <th></th>\n",
              "      <th>id</th>\n",
              "      <th>vendor_id</th>\n",
              "      <th>pickup_datetime</th>\n",
              "      <th>dropoff_datetime</th>\n",
              "      <th>passenger_count</th>\n",
              "      <th>pickup_longitude</th>\n",
              "      <th>pickup_latitude</th>\n",
              "      <th>dropoff_longitude</th>\n",
              "      <th>dropoff_latitude</th>\n",
              "      <th>store_and_fwd_flag</th>\n",
              "      <th>trip_duration</th>\n",
              "      <th>check_trip_duration</th>\n",
              "      <th>log_trip_duration</th>\n",
              "      <th>day_of_week</th>\n",
              "      <th>hour_of_day</th>\n",
              "    </tr>\n",
              "  </thead>\n",
              "  <tbody>\n",
              "    <tr>\n",
              "      <th>0</th>\n",
              "      <td>id2875421</td>\n",
              "      <td>2</td>\n",
              "      <td>2016-03-14 17:24:55</td>\n",
              "      <td>2016-03-14 17:32:30</td>\n",
              "      <td>1</td>\n",
              "      <td>-73.982155</td>\n",
              "      <td>40.767937</td>\n",
              "      <td>-73.964630</td>\n",
              "      <td>40.765602</td>\n",
              "      <td>0</td>\n",
              "      <td>455</td>\n",
              "      <td>455.0</td>\n",
              "      <td>6.122493</td>\n",
              "      <td>0</td>\n",
              "      <td>17</td>\n",
              "    </tr>\n",
              "    <tr>\n",
              "      <th>1</th>\n",
              "      <td>id2377394</td>\n",
              "      <td>1</td>\n",
              "      <td>2016-06-12 00:43:35</td>\n",
              "      <td>2016-06-12 00:54:38</td>\n",
              "      <td>1</td>\n",
              "      <td>-73.980415</td>\n",
              "      <td>40.738564</td>\n",
              "      <td>-73.999481</td>\n",
              "      <td>40.731152</td>\n",
              "      <td>0</td>\n",
              "      <td>663</td>\n",
              "      <td>663.0</td>\n",
              "      <td>6.498282</td>\n",
              "      <td>6</td>\n",
              "      <td>0</td>\n",
              "    </tr>\n",
              "    <tr>\n",
              "      <th>2</th>\n",
              "      <td>id3858529</td>\n",
              "      <td>2</td>\n",
              "      <td>2016-01-19 11:35:24</td>\n",
              "      <td>2016-01-19 12:10:48</td>\n",
              "      <td>1</td>\n",
              "      <td>-73.979027</td>\n",
              "      <td>40.763939</td>\n",
              "      <td>-74.005333</td>\n",
              "      <td>40.710087</td>\n",
              "      <td>0</td>\n",
              "      <td>2124</td>\n",
              "      <td>2124.0</td>\n",
              "      <td>7.661527</td>\n",
              "      <td>1</td>\n",
              "      <td>11</td>\n",
              "    </tr>\n",
              "    <tr>\n",
              "      <th>3</th>\n",
              "      <td>id3504673</td>\n",
              "      <td>2</td>\n",
              "      <td>2016-04-06 19:32:31</td>\n",
              "      <td>2016-04-06 19:39:40</td>\n",
              "      <td>1</td>\n",
              "      <td>-74.010040</td>\n",
              "      <td>40.719971</td>\n",
              "      <td>-74.012268</td>\n",
              "      <td>40.706718</td>\n",
              "      <td>0</td>\n",
              "      <td>429</td>\n",
              "      <td>429.0</td>\n",
              "      <td>6.063785</td>\n",
              "      <td>2</td>\n",
              "      <td>19</td>\n",
              "    </tr>\n",
              "    <tr>\n",
              "      <th>4</th>\n",
              "      <td>id2181028</td>\n",
              "      <td>2</td>\n",
              "      <td>2016-03-26 13:30:55</td>\n",
              "      <td>2016-03-26 13:38:10</td>\n",
              "      <td>1</td>\n",
              "      <td>-73.973053</td>\n",
              "      <td>40.793209</td>\n",
              "      <td>-73.972923</td>\n",
              "      <td>40.782520</td>\n",
              "      <td>0</td>\n",
              "      <td>435</td>\n",
              "      <td>435.0</td>\n",
              "      <td>6.077642</td>\n",
              "      <td>5</td>\n",
              "      <td>13</td>\n",
              "    </tr>\n",
              "  </tbody>\n",
              "</table>\n",
              "</div>"
            ],
            "text/plain": [
              "          id  vendor_id  ... day_of_week hour_of_day\n",
              "0  id2875421          2  ...           0          17\n",
              "1  id2377394          1  ...           6           0\n",
              "2  id3858529          2  ...           1          11\n",
              "3  id3504673          2  ...           2          19\n",
              "4  id2181028          2  ...           5          13\n",
              "\n",
              "[5 rows x 15 columns]"
            ]
          },
          "metadata": {},
          "execution_count": 30
        }
      ]
    },
    {
      "cell_type": "code",
      "metadata": {
        "colab": {
          "base_uri": "https://localhost:8080/"
        },
        "id": "OJ85xQsAyr_2",
        "outputId": "cc0709be-64b1-41b2-fa1c-014b37b607d0"
      },
      "source": [
        "summary_wdays_avg_duration = pd.DataFrame(nycc.groupby(['day_of_week'])['trip_duration'].median())\n",
        "X=[0,1,2,3,4,5,6]\n",
        "Y=summary_wdays_avg_duration['trip_duration']\n",
        "sns.lineplot(X,Y)\n",
        "plt.xlabel(\"Week_day\")\n"
      ],
      "execution_count": null,
      "outputs": [
        {
          "output_type": "execute_result",
          "data": {
            "text/plain": [
              "Text(0.5, 0, 'Week_day')"
            ]
          },
          "metadata": {},
          "execution_count": 31
        },
        {
          "output_type": "display_data",
          "data": {
            "image/png": "[encoded data removed]",
            "text/plain": [
              "<Figure size 432x288 with 1 Axes>"
            ]
          },
          "metadata": {}
        }
      ]
    },
    {
      "cell_type": "markdown",
      "metadata": {
        "id": "3L96_01e8UHZ"
      },
      "source": [
        "**vendor_id vs Trip Duration**\n",
        "\n",
        "Let's check how the trip duration varies for different vendors."
      ]
    },
    {
      "cell_type": "code",
      "metadata": {
        "colab": {
          "base_uri": "https://localhost:8080/"
        },
        "id": "vZGgR2NC8D4I",
        "outputId": "389aba4f-d370-47db-e77a-e8f0aa1b2968"
      },
      "source": [
        "plt.figure(figsize=(10, 6))\n",
        "sns.boxplot(x=\"vendor_id\", y=\"trip_duration\", data=nycc)\n",
        "plt.show()"
      ],
      "execution_count": null,
      "outputs": [
        {
          "output_type": "display_data",
          "data": {
            "image/png": "[encoded data removed]",
            "text/plain": [
              "<Figure size 720x432 with 1 Axes>"
            ]
          },
          "metadata": {}
        }
      ]
    },
    {
      "cell_type": "markdown",
      "metadata": {
        "id": "AY0UkEmG8edf"
      },
      "source": [
        "Woah! This did not came out as expected. The only thing I can see from this boxplot is that for vendor 2, there are a number of outliers exceeding 24 hours while vendor 1 does not have such long trips.\n",
        "\n",
        "There could be 2 solutions to this:\n",
        "\n",
        "1. Remove the huge outliers and plot again\n",
        "2. Look at median trip duration for both vendors on hourly basis\n",
        "Let's try the first technique now and check trips below 50000 seconds only"
      ]
    },
    {
      "cell_type": "code",
      "metadata": {
        "colab": {
          "base_uri": "https://localhost:8080/"
        },
        "id": "HTE9jrvs8LTj",
        "outputId": "7821fd9c-b56b-405d-a08d-de7a53f97474"
      },
      "source": [
        "plt.figure(figsize=(22, 6))\n",
        "df_sub = nycc[nycc['trip_duration'] < 50000]\n",
        "sns.boxplot(x=\"vendor_id\", y=\"trip_duration\", data=df_sub)\n",
        "plt.show()"
      ],
      "execution_count": null,
      "outputs": [
        {
          "output_type": "display_data",
          "data": {
            "image/png": "[encoded data removed]",
            "text/plain": [
              "<Figure size 1584x432 with 1 Axes>"
            ]
          },
          "metadata": {}
        }
      ]
    },
    {
      "cell_type": "markdown",
      "metadata": {
        "id": "FHhggEAP84MQ"
      },
      "source": [
        "\n",
        "As you can see, we were in a false perception earlier that vendor 1 had more outliers. Since the median is just around 600 seconds, we observe that vendor 2 has many more outliers as compared to vendor 1. Next, to confirm this, we will quickly look at the mean wrt day of week for both vendors using tsplot (time series plot) from seaborn."
      ]
    },
    {
      "cell_type": "markdown",
      "metadata": {
        "id": "pnyBulYN9Glg"
      },
      "source": [
        "**Trip Duration vs Passenger Count**"
      ]
    },
    {
      "cell_type": "code",
      "metadata": {
        "colab": {
          "base_uri": "https://localhost:8080/"
        },
        "id": "BPxavr598x98",
        "outputId": "9745377e-9048-4cdd-ff24-4395d163639b"
      },
      "source": [
        "nycc.passenger_count.value_counts()\n",
        "plt.figure(figsize=(15, 6))\n",
        "df_sub = nycc[nycc['trip_duration'] < 10000]\n",
        "sns.boxplot(x=\"passenger_count\", y=\"trip_duration\", data=df_sub)\n",
        "plt.show()\n",
        "\n"
      ],
      "execution_count": null,
      "outputs": [
        {
          "output_type": "display_data",
          "data": {
            "image/png": "[encoded data removed]",
            "text/plain": [
              "<Figure size 1080x432 with 1 Axes>"
            ]
          },
          "metadata": {}
        }
      ]
    },
    {
      "cell_type": "markdown",
      "metadata": {
        "id": "lItksRXi9xtX"
      },
      "source": [
        "* The boxplot clearly shows that there not much of a difference in distribution for the most frequently occuring passenger count values - 1, 2, 3.\n",
        "* Another key observation is that the number of outliers are reduced for higher passenger counts but that only comes down to the individual frequencies of each passenger count."
      ]
    },
    {
      "cell_type": "markdown",
      "metadata": {
        "id": "Osy9Ct7G-mmT"
      },
      "source": [
        "**Correlation Heatmap**\n",
        "\n",
        "Let us quickly look at the correlation heatmap to check the correlations amongst all features."
      ]
    },
    {
      "cell_type": "code",
      "metadata": {
        "colab": {
          "base_uri": "https://localhost:8080/"
        },
        "id": "tPk8J-0H-GaV",
        "outputId": "d7da3f8e-f379-49fa-c622-54c0d5360d58"
      },
      "source": [
        "plt.figure(figsize=(22, 6))\n",
        "df = nycc.drop(['id', 'pickup_datetime', 'dropoff_datetime',\n",
        "       'passenger_count','check_trip_duration','log_trip_duration'],\n",
        "        axis=1)\n",
        "corr = df.apply(lambda x: pd.factorize(x)[0]).corr()\n",
        "ax = sns.heatmap(corr, xticklabels=corr.columns, yticklabels=corr.columns, \n",
        "                 linewidths=.2, cmap=\"Reds\")"
      ],
      "execution_count": null,
      "outputs": [
        {
          "output_type": "display_data",
          "data": {
            "image/png": "[encoded data removed]",
            "text/plain": [
              "<Figure size 1584x432 with 2 Axes>"
            ]
          },
          "metadata": {}
        }
      ]
    },
    {
      "cell_type": "markdown",
      "metadata": {
        "id": "0T9urHLZY5QF"
      },
      "source": [
        "# **Preprocessing & Feature Extraction**\n",
        "As is clear from the previous modules, we can only feed numeric features as input to our models. So our next task is to convert the features in numeric form. It is time to jump into getting our data ready for feeding into the model but before that it is important to use the variables to do some feature engineering as t.\n",
        "\n",
        "Some of my ideas to create new variables and the reasons are as follows\n",
        "\n",
        "* Difference between pickup and dropoff latitude - will give an idea about the distance covered which could be predictive\n",
        "* Difference between pickup and dropoff longitude - same reason as above\n",
        "* Haversine distance between pickup and dropoff co-ordinates - to capture the actual distance travelled\n",
        "* Pickup minute - since pickup hour is an important variable, the minute of pickup might well have been predictive\n",
        "* Pickup day of year - same reason as above"
      ]
    },
    {
      "cell_type": "markdown",
      "metadata": {
        "id": "mTBGJY40ZOeD"
      },
      "source": [
        "**DateTime Conversion**\n",
        "\n",
        "The datetime features from csv files are read as strings and in order to easily extract features like day of week, month, year etc. we need to convert it into datetime format of python."
      ]
    },
    {
      "cell_type": "code",
      "metadata": {
        "id": "V6c7pwLE3d0b"
      },
      "source": [
        "dfm=nyc.copy()\n"
      ],
      "execution_count": null,
      "outputs": []
    },
    {
      "cell_type": "code",
      "metadata": {
        "id": "kPDMAb55-viO"
      },
      "source": [
        "# converting strings to datetime features\n",
        "dfm['pickup_datetime'] = pd.to_datetime(dfm.pickup_datetime)\n",
        "dfm['dropoff_datetime'] = pd.to_datetime(dfm.dropoff_datetime)"
      ],
      "execution_count": null,
      "outputs": []
    },
    {
      "cell_type": "code",
      "metadata": {
        "id": "EEefj74nfDhF"
      },
      "source": [
        "\n",
        "# Log transform the Y values\n",
        "df_y = np.log1p(dfm['trip_duration'])\n",
        "\n",
        "# Add some datetime features\n",
        "dfm.loc[:, 'pickup_weekday'] = dfm['pickup_datetime'].dt.weekday\n",
        "dfm.loc[:, 'pickup_hour_weekofyear'] = dfm['pickup_datetime'].dt.weekofyear\n",
        "dfm.loc[:, 'pickup_hour'] = dfm['pickup_datetime'].dt.hour\n",
        "dfm.loc[:, 'pickup_minute'] = dfm['pickup_datetime'].dt.minute\n",
        "dfm.loc[:, 'pickup_dt'] = (dfm['pickup_datetime'] - dfm['pickup_datetime'].min()).dt.total_seconds()\n",
        "dfm.loc[:, 'pickup_week_hour'] = dfm['pickup_weekday'] * 24 + dfm['pickup_hour']"
      ],
      "execution_count": null,
      "outputs": []
    },
    {
      "cell_type": "markdown",
      "metadata": {
        "id": "YpvnxnUXcMvg"
      },
      "source": [
        "**Distance Features**\n",
        "\n",
        "As discussed earlier, distance features must be important and must be included here\n",
        "\n",
        "**Eucledian Distance** \n",
        "\n",
        "Let's Calculate the Eucledian distance between pickup and drop off location to get some idea on how far the pickup and dropoff points are since this would definitely impact the trip duration even though we know that cars can't fly"
      ]
    },
    {
      "cell_type": "code",
      "metadata": {
        "id": "TeAokjMZcBl3"
      },
      "source": [
        "\n",
        "#displacement\n",
        "y_dist= dfm['pickup_longitude'] - dfm['dropoff_longitude']\n",
        "x_dist = dfm['pickup_latitude'] - dfm['dropoff_latitude']\n",
        "\n",
        "#square distance\n",
        "dfm['dist_sq'] = (y_dist ** 2) + (x_dist ** 2)\n",
        "\n",
        "#distance\n",
        "dfm['dist_sqrt'] = dfm['dist_sq'] ** 0.5"
      ],
      "execution_count": null,
      "outputs": []
    },
    {
      "cell_type": "markdown",
      "metadata": {
        "id": "-B2khBBwcxBs"
      },
      "source": [
        "**Haversine Distance**\n",
        "\n",
        "Let's calculate the distance (km) between pickup and dropoff points. The haversine formula determines the great-circle distance between two points on a sphere given their longitudes and latitudes. We will also calculate the approximate angle at which the dropoff location lies wrt the pickup location. pd.DataFrame.apply() would be too slow so the haversine function is rewritten to handle arrays.\n",
        "\n",
        "Haversine direction represents the information of angle of the line connecting the dropoff and pickup point over the surface of earth wrt equator."
      ]
    },
    {
      "cell_type": "code",
      "metadata": {
        "id": "d_llzDcYbddG"
      },
      "source": [
        "def haversine_array(lat1, lng1, lat2, lng2):\n",
        "    lat1, lng1, lat2, lng2 = map(np.radians, (lat1, lng1, lat2, lng2))\n",
        "    AVG_EARTH_RADIUS = 6371  # in km\n",
        "    lat = lat2 - lat1\n",
        "    lng = lng2 - lng1\n",
        "    d = np.sin(lat * 0.5) ** 2 + np.cos(lat1) * np.cos(lat2) * np.sin(lng * 0.5) ** 2\n",
        "    h = 2 * AVG_EARTH_RADIUS * np.arcsin(np.sqrt(d))\n",
        "    return h\n",
        "\n",
        "def direction_array(lat1, lng1, lat2, lng2):\n",
        "    AVG_EARTH_RADIUS = 6371  # in km\n",
        "    lng_delta_rad = np.radians(lng2 - lng1)\n",
        "    lat1, lng1, lat2, lng2 = map(np.radians, (lat1, lng1, lat2, lng2))\n",
        "    y = np.sin(lng_delta_rad) * np.cos(lat2)\n",
        "    x = np.cos(lat1) * np.sin(lat2) - np.sin(lat1) * np.cos(lat2) * np.cos(lng_delta_rad)\n",
        "    return np.degrees(np.arctan2(y, x))\n",
        "\n",
        "\n",
        "dfm['haversine_distance'] = haversine_array(dfm['pickup_latitude'].values, \n",
        "                                                     dfm['pickup_longitude'].values, \n",
        "                                                     dfm['dropoff_latitude'].values, \n",
        "                                                     dfm['dropoff_longitude'].values)\n",
        "\n",
        "\n",
        "dfm['direction'] = direction_array(dfm['pickup_latitude'].values, \n",
        "                                          dfm['pickup_longitude'].values, \n",
        "                                          dfm['dropoff_latitude'].values, \n",
        "                                          dfm['dropoff_longitude'].values)"
      ],
      "execution_count": null,
      "outputs": []
    },
    {
      "cell_type": "markdown",
      "metadata": {
        "id": "hVxOeDKidatu"
      },
      "source": [
        "**Binning**\n",
        "\n",
        "The lattitude and longitude could be a bit noisy and it might be a good idea to bin them and create new features after rounding their values."
      ]
    },
    {
      "cell_type": "code",
      "metadata": {
        "id": "6R5zy_6Ob1rW"
      },
      "source": [
        "### Binned Coordinates ###\n",
        "df['pickup_latitude_round3'] = np.round(df['pickup_latitude'],3)\n",
        "df['pickup_longitude_round3'] = np.round(df['pickup_longitude'],3)\n",
        "\n",
        "df['dropoff_latitude_round3'] = np.round(df['dropoff_latitude'],3)\n",
        "df['dropoff_longitude_round3'] = np.round(df['dropoff_longitude'],3)"
      ],
      "execution_count": null,
      "outputs": []
    },
    {
      "cell_type": "markdown",
      "metadata": {
        "id": "k9jcQ5UdeTpk"
      },
      "source": [
        "**One Hot Encoding**\n",
        "\n",
        "Here, Vendor ID can be converted to one hot encoding or frequency encoding since in the raw data it has values 1 and 2 without any inherent order."
      ]
    },
    {
      "cell_type": "code",
      "metadata": {
        "colab": {
          "base_uri": "https://localhost:8080/"
        },
        "id": "W3unHNc-eYSx",
        "outputId": "ca30c215-1036-42fe-9030-caec3661de0d"
      },
      "source": [
        "dfm.vendor_id.value_counts()"
      ],
      "execution_count": null,
      "outputs": [
        {
          "output_type": "execute_result",
          "data": {
            "text/plain": [
              "2    780302\n",
              "1    678342\n",
              "Name: vendor_id, dtype: int64"
            ]
          },
          "metadata": {},
          "execution_count": 57
        }
      ]
    },
    {
      "cell_type": "markdown",
      "metadata": {
        "id": "fxzNl21Peekh"
      },
      "source": [
        "Now, there is not much difference in the frequencies of both and that might not make for an important feature. so we will just convert it to 0 and 1 by subtracting 1 from it"
      ]
    },
    {
      "cell_type": "code",
      "metadata": {
        "id": "7_9vyUuhdnN_"
      },
      "source": [
        "dfm['vendor_id'] = dfm['vendor_id'] - 1"
      ],
      "execution_count": null,
      "outputs": []
    },
    {
      "cell_type": "code",
      "metadata": {
        "colab": {
          "base_uri": "https://localhost:8080/"
        },
        "id": "p50BxJt4eljB",
        "outputId": "8bcf520b-be70-4dd3-f315-99015a6af351"
      },
      "source": [
        "np.sum(pd.isnull(dfm))"
      ],
      "execution_count": null,
      "outputs": [
        {
          "output_type": "execute_result",
          "data": {
            "text/plain": [
              "id                        0\n",
              "vendor_id                 0\n",
              "pickup_datetime           0\n",
              "dropoff_datetime          0\n",
              "passenger_count           0\n",
              "pickup_longitude          0\n",
              "pickup_latitude           0\n",
              "dropoff_longitude         0\n",
              "dropoff_latitude          0\n",
              "store_and_fwd_flag        0\n",
              "trip_duration             0\n",
              "pickup_weekday            0\n",
              "pickup_hour_weekofyear    0\n",
              "pickup_hour               0\n",
              "pickup_minute             0\n",
              "pickup_dt                 0\n",
              "pickup_week_hour          0\n",
              "dist_sq                   0\n",
              "dist_sqrt                 0\n",
              "haversine_distance        0\n",
              "direction                 0\n",
              "dtype: int64"
            ]
          },
          "metadata": {},
          "execution_count": 59
        }
      ]
    },
    {
      "cell_type": "markdown",
      "metadata": {
        "id": "3_fmqLudeyVY"
      },
      "source": [
        "\n",
        "Before we go on to build a model, we must drop the variables that should not be fed as features to the algorithms. We will drop\n",
        "\n",
        "* id - Uniquely represents a sample in the train set\n",
        "* pickup_datetime - Since we have extracted the datetime features, there is no need to keep the datetime column\n",
        "* dropoff_datetime - If this is used to create features, it would be a leakage and we will get perfect model performance. Why? The time gap between dropoff_datetime and pickup_datetime is essentially what we are trying to predict\n",
        "* trip_duration - This is the target variable so needs to be dropped\n",
        "* store_and_fwd_flag - This variable is not available before the start of the trip and should not be used for modelling."
      ]
    },
    {
      "cell_type": "code",
      "metadata": {
        "id": "PKH9jMsc7Xpw"
      },
      "source": [
        "dfm = dfm.drop(['id', 'pickup_datetime', 'dropoff_datetime', 'trip_duration','store_and_fwd_flag'], axis=1)"
      ],
      "execution_count": null,
      "outputs": []
    },
    {
      "cell_type": "markdown",
      "metadata": {
        "id": "fsAhPciLfJgz"
      },
      "source": [
        "# **Model Building**\n"
      ]
    },
    {
      "cell_type": "code",
      "metadata": {
        "colab": {
          "base_uri": "https://localhost:8080/",
          "height": 226
        },
        "id": "ky-Chk3c4IZP",
        "outputId": "b0ca093d-d782-4b0a-ccf3-2330f1f33720"
      },
      "source": [
        "dfm.head()"
      ],
      "execution_count": null,
      "outputs": [
        {
          "output_type": "execute_result",
          "data": {
            "text/html": [
              "<div>\n",
              "<style scoped>\n",
              "    .dataframe tbody tr th:only-of-type {\n",
              "        vertical-align: middle;\n",
              "    }\n",
              "\n",
              "    .dataframe tbody tr th {\n",
              "        vertical-align: top;\n",
              "    }\n",
              "\n",
              "    .dataframe thead th {\n",
              "        text-align: right;\n",
              "    }\n",
              "</style>\n",
              "<table border=\"1\" class=\"dataframe\">\n",
              "  <thead>\n",
              "    <tr style=\"text-align: right;\">\n",
              "      <th></th>\n",
              "      <th>vendor_id</th>\n",
              "      <th>passenger_count</th>\n",
              "      <th>pickup_longitude</th>\n",
              "      <th>pickup_latitude</th>\n",
              "      <th>dropoff_longitude</th>\n",
              "      <th>dropoff_latitude</th>\n",
              "      <th>pickup_weekday</th>\n",
              "      <th>pickup_hour_weekofyear</th>\n",
              "      <th>pickup_hour</th>\n",
              "      <th>pickup_minute</th>\n",
              "      <th>pickup_dt</th>\n",
              "      <th>pickup_week_hour</th>\n",
              "      <th>dist_sq</th>\n",
              "      <th>dist_sqrt</th>\n",
              "      <th>haversine_distance</th>\n",
              "      <th>direction</th>\n",
              "    </tr>\n",
              "  </thead>\n",
              "  <tbody>\n",
              "    <tr>\n",
              "      <th>0</th>\n",
              "      <td>1</td>\n",
              "      <td>1</td>\n",
              "      <td>-73.982155</td>\n",
              "      <td>40.767937</td>\n",
              "      <td>-73.964630</td>\n",
              "      <td>40.765602</td>\n",
              "      <td>0</td>\n",
              "      <td>11</td>\n",
              "      <td>17</td>\n",
              "      <td>24</td>\n",
              "      <td>6369878.0</td>\n",
              "      <td>17</td>\n",
              "      <td>0.000313</td>\n",
              "      <td>0.017680</td>\n",
              "      <td>1.498521</td>\n",
              "      <td>99.970196</td>\n",
              "    </tr>\n",
              "    <tr>\n",
              "      <th>1</th>\n",
              "      <td>0</td>\n",
              "      <td>1</td>\n",
              "      <td>-73.980415</td>\n",
              "      <td>40.738564</td>\n",
              "      <td>-73.999481</td>\n",
              "      <td>40.731152</td>\n",
              "      <td>6</td>\n",
              "      <td>23</td>\n",
              "      <td>0</td>\n",
              "      <td>43</td>\n",
              "      <td>14085798.0</td>\n",
              "      <td>144</td>\n",
              "      <td>0.000418</td>\n",
              "      <td>0.020456</td>\n",
              "      <td>1.805507</td>\n",
              "      <td>-117.153768</td>\n",
              "    </tr>\n",
              "    <tr>\n",
              "      <th>2</th>\n",
              "      <td>1</td>\n",
              "      <td>1</td>\n",
              "      <td>-73.979027</td>\n",
              "      <td>40.763939</td>\n",
              "      <td>-74.005333</td>\n",
              "      <td>40.710087</td>\n",
              "      <td>1</td>\n",
              "      <td>3</td>\n",
              "      <td>11</td>\n",
              "      <td>35</td>\n",
              "      <td>1596907.0</td>\n",
              "      <td>35</td>\n",
              "      <td>0.003592</td>\n",
              "      <td>0.059934</td>\n",
              "      <td>6.385098</td>\n",
              "      <td>-159.680165</td>\n",
              "    </tr>\n",
              "    <tr>\n",
              "      <th>3</th>\n",
              "      <td>1</td>\n",
              "      <td>1</td>\n",
              "      <td>-74.010040</td>\n",
              "      <td>40.719971</td>\n",
              "      <td>-74.012268</td>\n",
              "      <td>40.706718</td>\n",
              "      <td>2</td>\n",
              "      <td>14</td>\n",
              "      <td>19</td>\n",
              "      <td>32</td>\n",
              "      <td>8364734.0</td>\n",
              "      <td>67</td>\n",
              "      <td>0.000181</td>\n",
              "      <td>0.013438</td>\n",
              "      <td>1.485498</td>\n",
              "      <td>-172.737700</td>\n",
              "    </tr>\n",
              "    <tr>\n",
              "      <th>4</th>\n",
              "      <td>1</td>\n",
              "      <td>1</td>\n",
              "      <td>-73.973053</td>\n",
              "      <td>40.793209</td>\n",
              "      <td>-73.972923</td>\n",
              "      <td>40.782520</td>\n",
              "      <td>5</td>\n",
              "      <td>12</td>\n",
              "      <td>13</td>\n",
              "      <td>30</td>\n",
              "      <td>7392638.0</td>\n",
              "      <td>133</td>\n",
              "      <td>0.000114</td>\n",
              "      <td>0.010690</td>\n",
              "      <td>1.188588</td>\n",
              "      <td>179.473585</td>\n",
              "    </tr>\n",
              "  </tbody>\n",
              "</table>\n",
              "</div>"
            ],
            "text/plain": [
              "   vendor_id  passenger_count  ...  haversine_distance   direction\n",
              "0          1                1  ...            1.498521   99.970196\n",
              "1          0                1  ...            1.805507 -117.153768\n",
              "2          1                1  ...            6.385098 -159.680165\n",
              "3          1                1  ...            1.485498 -172.737700\n",
              "4          1                1  ...            1.188588  179.473585\n",
              "\n",
              "[5 rows x 16 columns]"
            ]
          },
          "metadata": {},
          "execution_count": 61
        }
      ]
    },
    {
      "cell_type": "markdown",
      "metadata": {
        "id": "QsLK0TehfgOS"
      },
      "source": [
        "We have all numerical data types in our dataset now. Time to delve into model building. A very simple baseline could just be the mean of the values in the train set. Let's check the performance on that."
      ]
    },
    {
      "cell_type": "markdown",
      "metadata": {
        "id": "Sl3ZrkJNfquK"
      },
      "source": [
        "**Test Train Split**\n",
        "\n",
        "We have all numbers in our dataset now. Time to delve into model building. But before that, we need to finalise a validation strategy to create the train and test sets. Here, we will do a random split and keep one third of the data in test set and remaining two third of data in the train set"
      ]
    },
    {
      "cell_type": "code",
      "metadata": {
        "id": "sY2H6GLXfXUI"
      },
      "source": [
        "#Splitting the data into Train and Validation set\n",
        "xtrain, xtest, ytrain, ytest = train_test_split(dfm,df_y,test_size=1/3, random_state=0)\n"
      ],
      "execution_count": null,
      "outputs": []
    },
    {
      "cell_type": "markdown",
      "metadata": {
        "id": "N2psfhUYf-ds"
      },
      "source": [
        "**Mean Prediction**\n",
        "\n",
        "Before we go on to try any machine learning model, let us look at the performance of a basic model that just says the mean of trip duration in the train set is the prediction for all the trips in the test set."
      ]
    },
    {
      "cell_type": "code",
      "metadata": {
        "colab": {
          "base_uri": "https://localhost:8080/"
        },
        "id": "f9ctJhZnf0pV",
        "outputId": "7427d85e-e934-472d-89d7-6a213fe028db"
      },
      "source": [
        "mean_pred = np.repeat(ytrain.mean(),len(ytest))\n",
        "\n",
        "sqrt(mean_squared_error(ytest, mean_pred))"
      ],
      "execution_count": null,
      "outputs": [
        {
          "output_type": "execute_result",
          "data": {
            "text/plain": [
              "0.7932210515663911"
            ]
          },
          "metadata": {},
          "execution_count": 64
        }
      ]
    },
    {
      "cell_type": "markdown",
      "metadata": {
        "id": "BIUP5tz38XPk"
      },
      "source": [
        "# **Cross validation**\n",
        "Cross Validation is one of the most important concepts in any type of data modelling. It simply says, try to leave a sample on which you do not train the model and test the model on this sample before finalizing the model.\n",
        "\n",
        "we divide the entire population into k equal samples. Now we train models on k-1 samples and validate on 1 sample. Then, at the second iteration we train the model with a different sample held as validation.\n",
        "\n",
        "In k iterations, we have basically built model on each sample and held each of them as validation. This is a way to reduce the selection bias and reduce the variance in prediction power."
      ]
    },
    {
      "cell_type": "code",
      "metadata": {
        "id": "HjfgOqRZ8Xkp"
      },
      "source": [
        "def cv_score(ml_model, rstate = 11,cols = dfm.columns):\n",
        "    i = 1\n",
        "    cv_scores = []\n",
        "    df1 = dfm.copy()\n",
        "    df1 = dfm[cols]\n",
        "    \n",
        "    kf = KFold(n_splits=5,random_state=rstate,shuffle=True)\n",
        "    for train_index,test_index in kf.split(df1,df_y):\n",
        "        print('\\n{} of kfold {}'.format(i,kf.n_splits))\n",
        "        xtr,xvl = df1.loc[train_index],df1.loc[test_index]\n",
        "        ytr,yvl = df_y[train_index],df_y[test_index]\n",
        "\n",
        "        model = ml_model\n",
        "        model.fit(xtr, ytr)\n",
        "        train_val = model.predict(xtr)\n",
        "        pred_val = model.predict(xvl)\n",
        "        rmse_score_train = sqrt(mean_squared_error(ytr, train_val))\n",
        "        rmse_score = sqrt(mean_squared_error(yvl, pred_val))\n",
        "        sufix = \"\"\n",
        "        msg = \"\"\n",
        "        #msg += \"Train RMSE: {:.5f} \".format(rmse_score_train)\n",
        "        msg += \"Valid RMSE: {:.5f}\".format(rmse_score)\n",
        "        print(\"{}\".format(msg))\n",
        "        # Save scores\n",
        "        cv_scores.append(rmse_score)\n",
        "        i+=1\n",
        "    return cv_scores"
      ],
      "execution_count": null,
      "outputs": []
    },
    {
      "cell_type": "markdown",
      "metadata": {
        "id": "02VzCkoDgn5g"
      },
      "source": [
        "# **Linear Regression**\n",
        "\n",
        "Lets begin by using the simplest regression algorithm Linear regression to check the performance."
      ]
    },
    {
      "cell_type": "code",
      "metadata": {
        "colab": {
          "base_uri": "https://localhost:8080/"
        },
        "id": "E_E8OKgV72YW",
        "outputId": "9e6eb177-09b9-4021-e4ce-06e46e29170a"
      },
      "source": [
        "linreg_scores = cv_score(LinearRegression())"
      ],
      "execution_count": null,
      "outputs": [
        {
          "output_type": "stream",
          "name": "stdout",
          "text": [
            "\n",
            "1 of kfold 5\n",
            "Valid RMSE: 0.61370\n",
            "\n",
            "2 of kfold 5\n",
            "Valid RMSE: 0.61483\n",
            "\n",
            "3 of kfold 5\n",
            "Valid RMSE: 0.61966\n",
            "\n",
            "4 of kfold 5\n",
            "Valid RMSE: 0.61162\n",
            "\n",
            "5 of kfold 5\n",
            "Valid RMSE: 0.61786\n"
          ]
        }
      ]
    },
    {
      "cell_type": "code",
      "metadata": {
        "colab": {
          "base_uri": "https://localhost:8080/"
        },
        "id": "T83ub35U8ksV",
        "outputId": "ebd7a410-31dd-4cb9-ff10-e498a1fecbc6"
      },
      "source": [
        "dtree_scores = cv_score(DecisionTreeRegressor(min_samples_leaf=25, min_samples_split=25))"
      ],
      "execution_count": null,
      "outputs": [
        {
          "output_type": "stream",
          "name": "stdout",
          "text": [
            "\n",
            "1 of kfold 5\n",
            "Valid RMSE: 0.42934\n",
            "\n",
            "2 of kfold 5\n",
            "Valid RMSE: 0.42347\n",
            "\n",
            "3 of kfold 5\n",
            "Valid RMSE: 0.42963\n",
            "\n",
            "4 of kfold 5\n",
            "Valid RMSE: 0.42824\n",
            "\n",
            "5 of kfold 5\n",
            "Valid RMSE: 0.42848\n"
          ]
        }
      ]
    },
    {
      "cell_type": "code",
      "metadata": {
        "id": "d8Ymp-3-8zvU"
      },
      "source": [
        "results_df = pd.DataFrame({'linear_regression':linreg_scores, 'dtree': dtree_scores})"
      ],
      "execution_count": null,
      "outputs": []
    },
    {
      "cell_type": "code",
      "metadata": {
        "colab": {
          "base_uri": "https://localhost:8080/",
          "height": 265
        },
        "id": "r76tnt9L844l",
        "outputId": "ff35b497-628b-4489-d5b6-ba3ad10066a0"
      },
      "source": [
        "results_df.plot(y=[\"linear_regression\", \"dtree\"], kind=\"bar\", legend=False)\n",
        "plt.legend(bbox_to_anchor=(1.05, 1), loc=2, borderaxespad=0.)\n",
        "plt.show()"
      ],
      "execution_count": null,
      "outputs": [
        {
          "output_type": "display_data",
          "data": {
            "image/png": "[encoded data removed]",
            "text/plain": [
              "<Figure size 432x288 with 1 Axes>"
            ]
          },
          "metadata": {}
        }
      ]
    },
    {
      "cell_type": "markdown",
      "metadata": {
        "id": "_owTcxai93lM"
      },
      "source": [
        "Decision tree is better than Linear Regression\n"
      ]
    },
    {
      "cell_type": "markdown",
      "metadata": {
        "id": "dJ74y4yAFXkF"
      },
      "source": [
        "# **Conclusion**\n",
        "1. Mostly 1 or 2 passengers avail the cab. The instance of large group of people travelling together is rare.\n",
        "2. Most trips were taken on Friday and Monday being the least.\n",
        "3. we observe that most pickups and drops occur in the evening. While the least drops and pickups occur during morning.\n",
        "4. The highest average time taken to complete a trip are for trips started in midday(between 14 and 17 hours) and the least are the ones taken in the early morning(between 6–7 hours)\n",
        "5. vendor 1 mostly provides short trip duration cabs while vendor 2 provides cab for both short and long trips.\n",
        "6. The flag was stored only for short duration trips and for long duration trips the flag was never stored.\n",
        "7. Desion tree model give more accurate value on data set than linear regression model.\n",
        "\n",
        "\n"
      ]
    },
    {
      "cell_type": "code",
      "metadata": {
        "id": "xgudzbhL89QZ"
      },
      "source": [
        ""
      ],
      "execution_count": null,
      "outputs": []
    }
  ]
}